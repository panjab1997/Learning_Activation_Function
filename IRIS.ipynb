{
 "cells": [
  {
   "cell_type": "code",
   "execution_count": 1,
   "id": "70faa39a",
   "metadata": {},
   "outputs": [],
   "source": [
    "# Some neccessary Libraries \n",
    "import pandas as pd \n",
    "import numpy as np\n",
    "import matplotlib.pyplot as plt\n",
    "import seaborn as sns\n",
    "import tensorflow as tf\n",
    "from tensorflow import keras\n",
    "from tensorflow.keras import layers\n",
    "from tensorflow.keras.models import Sequential\n",
    "from sklearn.model_selection import train_test_split\n",
    "from sklearn.preprocessing import OneHotEncoder, StandardScaler\n",
    "%load_ext tensorboard"
   ]
  },
  {
   "cell_type": "code",
   "execution_count": 2,
   "id": "da5612b3",
   "metadata": {},
   "outputs": [
    {
     "data": {
      "text/html": [
       "<div>\n",
       "<style scoped>\n",
       "    .dataframe tbody tr th:only-of-type {\n",
       "        vertical-align: middle;\n",
       "    }\n",
       "\n",
       "    .dataframe tbody tr th {\n",
       "        vertical-align: top;\n",
       "    }\n",
       "\n",
       "    .dataframe thead th {\n",
       "        text-align: right;\n",
       "    }\n",
       "</style>\n",
       "<table border=\"1\" class=\"dataframe\">\n",
       "  <thead>\n",
       "    <tr style=\"text-align: right;\">\n",
       "      <th></th>\n",
       "      <th>Sepal.Length</th>\n",
       "      <th>Sepal.Width</th>\n",
       "      <th>Petal.Length</th>\n",
       "      <th>Petal.Width</th>\n",
       "      <th>Species</th>\n",
       "    </tr>\n",
       "  </thead>\n",
       "  <tbody>\n",
       "    <tr>\n",
       "      <th>0</th>\n",
       "      <td>5.1</td>\n",
       "      <td>3.5</td>\n",
       "      <td>1.4</td>\n",
       "      <td>0.2</td>\n",
       "      <td>setosa</td>\n",
       "    </tr>\n",
       "    <tr>\n",
       "      <th>1</th>\n",
       "      <td>4.9</td>\n",
       "      <td>3.0</td>\n",
       "      <td>1.4</td>\n",
       "      <td>0.2</td>\n",
       "      <td>setosa</td>\n",
       "    </tr>\n",
       "    <tr>\n",
       "      <th>2</th>\n",
       "      <td>4.7</td>\n",
       "      <td>3.2</td>\n",
       "      <td>1.3</td>\n",
       "      <td>0.2</td>\n",
       "      <td>setosa</td>\n",
       "    </tr>\n",
       "    <tr>\n",
       "      <th>3</th>\n",
       "      <td>4.6</td>\n",
       "      <td>3.1</td>\n",
       "      <td>1.5</td>\n",
       "      <td>0.2</td>\n",
       "      <td>setosa</td>\n",
       "    </tr>\n",
       "    <tr>\n",
       "      <th>4</th>\n",
       "      <td>5.0</td>\n",
       "      <td>3.6</td>\n",
       "      <td>1.4</td>\n",
       "      <td>0.2</td>\n",
       "      <td>setosa</td>\n",
       "    </tr>\n",
       "  </tbody>\n",
       "</table>\n",
       "</div>"
      ],
      "text/plain": [
       "   Sepal.Length  Sepal.Width  Petal.Length  Petal.Width Species\n",
       "0           5.1          3.5           1.4          0.2  setosa\n",
       "1           4.9          3.0           1.4          0.2  setosa\n",
       "2           4.7          3.2           1.3          0.2  setosa\n",
       "3           4.6          3.1           1.5          0.2  setosa\n",
       "4           5.0          3.6           1.4          0.2  setosa"
      ]
     },
     "execution_count": 2,
     "metadata": {},
     "output_type": "execute_result"
    }
   ],
   "source": [
    "# Load the IRIS Dataset\n",
    "iris = pd.read_csv('iris.csv')\n",
    "iris.head() "
   ]
  },
  {
   "cell_type": "code",
   "execution_count": 3,
   "id": "ed367914",
   "metadata": {},
   "outputs": [
    {
     "name": "stdout",
     "output_type": "stream",
     "text": [
      "<class 'pandas.core.frame.DataFrame'>\n",
      "RangeIndex: 150 entries, 0 to 149\n",
      "Data columns (total 5 columns):\n",
      " #   Column        Non-Null Count  Dtype  \n",
      "---  ------        --------------  -----  \n",
      " 0   Sepal.Length  150 non-null    float64\n",
      " 1   Sepal.Width   150 non-null    float64\n",
      " 2   Petal.Length  150 non-null    float64\n",
      " 3   Petal.Width   150 non-null    float64\n",
      " 4   Species       150 non-null    object \n",
      "dtypes: float64(4), object(1)\n",
      "memory usage: 6.0+ KB\n"
     ]
    }
   ],
   "source": [
    "iris.info()"
   ]
  },
  {
   "cell_type": "code",
   "execution_count": 4,
   "id": "479bddd8",
   "metadata": {},
   "outputs": [
    {
     "data": {
      "text/html": [
       "<div>\n",
       "<style scoped>\n",
       "    .dataframe tbody tr th:only-of-type {\n",
       "        vertical-align: middle;\n",
       "    }\n",
       "\n",
       "    .dataframe tbody tr th {\n",
       "        vertical-align: top;\n",
       "    }\n",
       "\n",
       "    .dataframe thead th {\n",
       "        text-align: right;\n",
       "    }\n",
       "</style>\n",
       "<table border=\"1\" class=\"dataframe\">\n",
       "  <thead>\n",
       "    <tr style=\"text-align: right;\">\n",
       "      <th></th>\n",
       "      <th>Sepal.Length</th>\n",
       "      <th>Sepal.Width</th>\n",
       "      <th>Petal.Length</th>\n",
       "      <th>Petal.Width</th>\n",
       "    </tr>\n",
       "  </thead>\n",
       "  <tbody>\n",
       "    <tr>\n",
       "      <th>count</th>\n",
       "      <td>150.000000</td>\n",
       "      <td>150.000000</td>\n",
       "      <td>150.000000</td>\n",
       "      <td>150.000000</td>\n",
       "    </tr>\n",
       "    <tr>\n",
       "      <th>mean</th>\n",
       "      <td>5.843333</td>\n",
       "      <td>3.057333</td>\n",
       "      <td>3.758000</td>\n",
       "      <td>1.199333</td>\n",
       "    </tr>\n",
       "    <tr>\n",
       "      <th>std</th>\n",
       "      <td>0.828066</td>\n",
       "      <td>0.435866</td>\n",
       "      <td>1.765298</td>\n",
       "      <td>0.762238</td>\n",
       "    </tr>\n",
       "    <tr>\n",
       "      <th>min</th>\n",
       "      <td>4.300000</td>\n",
       "      <td>2.000000</td>\n",
       "      <td>1.000000</td>\n",
       "      <td>0.100000</td>\n",
       "    </tr>\n",
       "    <tr>\n",
       "      <th>25%</th>\n",
       "      <td>5.100000</td>\n",
       "      <td>2.800000</td>\n",
       "      <td>1.600000</td>\n",
       "      <td>0.300000</td>\n",
       "    </tr>\n",
       "    <tr>\n",
       "      <th>50%</th>\n",
       "      <td>5.800000</td>\n",
       "      <td>3.000000</td>\n",
       "      <td>4.350000</td>\n",
       "      <td>1.300000</td>\n",
       "    </tr>\n",
       "    <tr>\n",
       "      <th>75%</th>\n",
       "      <td>6.400000</td>\n",
       "      <td>3.300000</td>\n",
       "      <td>5.100000</td>\n",
       "      <td>1.800000</td>\n",
       "    </tr>\n",
       "    <tr>\n",
       "      <th>max</th>\n",
       "      <td>7.900000</td>\n",
       "      <td>4.400000</td>\n",
       "      <td>6.900000</td>\n",
       "      <td>2.500000</td>\n",
       "    </tr>\n",
       "  </tbody>\n",
       "</table>\n",
       "</div>"
      ],
      "text/plain": [
       "       Sepal.Length  Sepal.Width  Petal.Length  Petal.Width\n",
       "count    150.000000   150.000000    150.000000   150.000000\n",
       "mean       5.843333     3.057333      3.758000     1.199333\n",
       "std        0.828066     0.435866      1.765298     0.762238\n",
       "min        4.300000     2.000000      1.000000     0.100000\n",
       "25%        5.100000     2.800000      1.600000     0.300000\n",
       "50%        5.800000     3.000000      4.350000     1.300000\n",
       "75%        6.400000     3.300000      5.100000     1.800000\n",
       "max        7.900000     4.400000      6.900000     2.500000"
      ]
     },
     "execution_count": 4,
     "metadata": {},
     "output_type": "execute_result"
    }
   ],
   "source": [
    "iris.describe() # Statistical summary of the iris dataset"
   ]
  },
  {
   "cell_type": "code",
   "execution_count": 5,
   "id": "9a6280e6",
   "metadata": {},
   "outputs": [
    {
     "data": {
      "text/plain": [
       "Sepal.Length    0.0\n",
       "Sepal.Width     0.0\n",
       "Petal.Length    0.0\n",
       "Petal.Width     0.0\n",
       "Species         0.0\n",
       "dtype: float64"
      ]
     },
     "execution_count": 5,
     "metadata": {},
     "output_type": "execute_result"
    }
   ],
   "source": [
    "# Check for missing value\n",
    "iris.isnull().sum()/len(iris)*100"
   ]
  },
  {
   "cell_type": "markdown",
   "id": "6192d9ec",
   "metadata": {},
   "source": [
    "As you can see the result , there are no missing values"
   ]
  },
  {
   "cell_type": "markdown",
   "id": "5b41189b",
   "metadata": {},
   "source": [
    "# Vizualization of the data"
   ]
  },
  {
   "cell_type": "code",
   "execution_count": 6,
   "id": "0080ed66",
   "metadata": {},
   "outputs": [
    {
     "data": {
      "text/plain": [
       "Text(0.5, 1.0, 'Distribution of Types of Species')"
      ]
     },
     "execution_count": 6,
     "metadata": {},
     "output_type": "execute_result"
    },
    {
     "data": {
      "image/png": "[encoded data removed]",
      "text/plain": [
       "<Figure size 640x480 with 1 Axes>"
      ]
     },
     "metadata": {},
     "output_type": "display_data"
    }
   ],
   "source": [
    "# Target Variable \n",
    "plt.style.use('ggplot')\n",
    "sns.countplot(data = iris , x = 'Species')\n",
    "plt.title('Distribution of Types of Species')"
   ]
  },
  {
   "cell_type": "code",
   "execution_count": 7,
   "id": "3d715e83",
   "metadata": {},
   "outputs": [
    {
     "data": {
      "image/png": "[encoded data removed]",
      "text/plain": [
       "<Figure size 1600x600 with 2 Axes>"
      ]
     },
     "metadata": {},
     "output_type": "display_data"
    }
   ],
   "source": [
    "# Visualizing species based on Sepal length and width OR Petal Length and Petal Width\n",
    "plt.figure(figsize=(16, 6))\n",
    "plt.subplot(1, 2, 1)\n",
    "\n",
    "sns.scatterplot(data = iris , x = 'Sepal.Length' , y = 'Sepal.Width' , hue='Species')\n",
    "\n",
    "plt.subplot(1, 2, 2)\n",
    "\n",
    "sns.scatterplot(data = iris , x = 'Petal.Length' , y = 'Petal.Width' , hue='Species')\n",
    "\n",
    "plt.show()\n"
   ]
  },
  {
   "cell_type": "markdown",
   "id": "0fee0802",
   "metadata": {},
   "source": [
    "We can easily differentiate setosa based on Sepal but for versicolor and virginica its difficult because the data is scattred."
   ]
  },
  {
   "cell_type": "markdown",
   "id": "8038ed92",
   "metadata": {},
   "source": [
    "### Data preprocessing Steps"
   ]
  },
  {
   "cell_type": "code",
   "execution_count": 8,
   "id": "068bd6ba",
   "metadata": {},
   "outputs": [],
   "source": [
    "# Split data into target & predictors\n",
    "X = iris.iloc[: , :4]\n",
    "y = iris.iloc[: , -1]"
   ]
  },
  {
   "cell_type": "code",
   "execution_count": 9,
   "id": "4f6a1cd2",
   "metadata": {},
   "outputs": [],
   "source": [
    "# One hot encoding\n",
    "enc = OneHotEncoder()\n",
    "Y = enc.fit_transform(np.array(y).reshape(-1, 1)).toarray()"
   ]
  },
  {
   "cell_type": "code",
   "execution_count": 10,
   "id": "d703cfb0",
   "metadata": {},
   "outputs": [],
   "source": [
    "# Standard Scaling ,important for convergence of the neural network\n",
    "scaler = StandardScaler()\n",
    "X_scaled = scaler.fit_transform(X)"
   ]
  },
  {
   "cell_type": "code",
   "execution_count": 11,
   "id": "07cddff0",
   "metadata": {},
   "outputs": [],
   "source": [
    "# Split the dataset into training and testing\n",
    "X_train, X_test, Y_train, Y_test = train_test_split(\n",
    "    X_scaled, Y, test_size=0.2, random_state=4)\n",
    "\n",
    "n_features = X.shape[1]\n",
    "n_classes = Y.shape[1]"
   ]
  },
  {
   "cell_type": "code",
   "execution_count": 12,
   "id": "dabf1c71",
   "metadata": {},
   "outputs": [],
   "source": [
    "# neural network architecture for adaptive activation function (AF) selection\n",
    "\n",
    "initializer0 = keras.initializers.RandomUniform(minval = -0.01, maxval =0.1)\n",
    "initializer1 = keras.initializers.RandomUniform(minval = -0.01, maxval =0.1)\n",
    "initializer2 = keras.initializers.RandomUniform(minval = 0.5, maxval =1.5)\n",
    "\n",
    "class Ada_act(keras.layers.Layer):\n",
    "    def __init__(self):\n",
    "        super(Ada_act, self).__init__()\n",
    "        self.k0 = self.add_weight(name='k0', shape = (), initializer=initializer0, trainable=True)\n",
    "        self.k1 = self.add_weight(name='k1', shape = (), initializer=initializer1, trainable=True)\n",
    "        self.k2 = self.add_weight(name='k2', shape = (), initializer=initializer2, trainable=True)\n",
    "        \n",
    "    def call(self, inputs):\n",
    "        return self.k0 + tf.multiply(inputs, self.k1) + tf.multiply(tf.multiply(inputs,inputs), self.k2)"
   ]
  },
  {
   "cell_type": "code",
   "execution_count": 13,
   "id": "336e68a0",
   "metadata": {},
   "outputs": [
    {
     "name": "stdout",
     "output_type": "stream",
     "text": [
      "Model: \"sequential\"\n",
      "_________________________________________________________________\n",
      " Layer (type)                Output Shape              Param #   \n",
      "=================================================================\n",
      " dense (Dense)               (None, 25)                125       \n",
      "                                                                 \n",
      " ada_act (Ada_act)           (None, 25)                3         \n",
      "                                                                 \n",
      " dropout (Dropout)           (None, 25)                0         \n",
      "                                                                 \n",
      " dense_1 (Dense)             (None, 3)                 78        \n",
      "                                                                 \n",
      "=================================================================\n",
      "Total params: 206\n",
      "Trainable params: 206\n",
      "Non-trainable params: 0\n",
      "_________________________________________________________________\n"
     ]
    }
   ],
   "source": [
    "# Build model with fully connected layers with dropout regulation\n",
    "model = Sequential()\n",
    "model.add(layers.Dense(25, input_dim=X.shape[1]))\n",
    "act = Ada_act()\n",
    "model.add(act)\n",
    "model.add(layers.Dropout(0.1))\n",
    "model.add(layers.Dense(Y.shape[1], activation='softmax'))\n",
    "model.summary()"
   ]
  },
  {
   "cell_type": "code",
   "execution_count": 14,
   "id": "25336895",
   "metadata": {
    "scrolled": false
   },
   "outputs": [
    {
     "name": "stdout",
     "output_type": "stream",
     "text": [
      "Epoch 1/100\n",
      "20/20 [==============================] - 4s 49ms/step - loss: 1.0369 - accuracy: 0.4062 - val_loss: 1.2974 - val_accuracy: 0.2917\n",
      "Epoch 2/100\n",
      "20/20 [==============================] - 0s 15ms/step - loss: 0.9736 - accuracy: 0.4583 - val_loss: 1.1193 - val_accuracy: 0.4167\n",
      "Epoch 3/100\n",
      "20/20 [==============================] - 0s 14ms/step - loss: 0.8965 - accuracy: 0.6042 - val_loss: 1.0007 - val_accuracy: 0.5833\n",
      "Epoch 4/100\n",
      "20/20 [==============================] - 0s 14ms/step - loss: 0.8199 - accuracy: 0.7083 - val_loss: 0.9139 - val_accuracy: 0.6250\n",
      "Epoch 5/100\n",
      "20/20 [==============================] - 0s 14ms/step - loss: 0.7913 - accuracy: 0.7188 - val_loss: 0.8013 - val_accuracy: 0.7083\n",
      "Epoch 6/100\n",
      "20/20 [==============================] - 0s 13ms/step - loss: 0.7479 - accuracy: 0.7396 - val_loss: 0.7311 - val_accuracy: 0.8333\n",
      "Epoch 7/100\n",
      "20/20 [==============================] - 0s 15ms/step - loss: 0.6885 - accuracy: 0.7604 - val_loss: 0.6584 - val_accuracy: 0.8333\n",
      "Epoch 8/100\n",
      "20/20 [==============================] - 0s 14ms/step - loss: 0.6520 - accuracy: 0.7917 - val_loss: 0.5996 - val_accuracy: 0.8333\n",
      "Epoch 9/100\n",
      "20/20 [==============================] - 0s 15ms/step - loss: 0.6126 - accuracy: 0.7917 - val_loss: 0.5522 - val_accuracy: 0.8333\n",
      "Epoch 10/100\n",
      "20/20 [==============================] - 0s 15ms/step - loss: 0.5523 - accuracy: 0.8333 - val_loss: 0.5091 - val_accuracy: 0.8333\n",
      "Epoch 11/100\n",
      "20/20 [==============================] - 0s 14ms/step - loss: 0.5284 - accuracy: 0.8021 - val_loss: 0.4708 - val_accuracy: 0.8333\n",
      "Epoch 12/100\n",
      "20/20 [==============================] - 0s 14ms/step - loss: 0.4984 - accuracy: 0.8021 - val_loss: 0.4418 - val_accuracy: 0.8333\n",
      "Epoch 13/100\n",
      "20/20 [==============================] - 0s 15ms/step - loss: 0.4587 - accuracy: 0.8229 - val_loss: 0.4137 - val_accuracy: 0.8333\n",
      "Epoch 14/100\n",
      "20/20 [==============================] - 0s 14ms/step - loss: 0.4250 - accuracy: 0.8229 - val_loss: 0.3903 - val_accuracy: 0.8333\n",
      "Epoch 15/100\n",
      "20/20 [==============================] - 0s 14ms/step - loss: 0.4036 - accuracy: 0.8229 - val_loss: 0.3644 - val_accuracy: 0.8333\n",
      "Epoch 16/100\n",
      "20/20 [==============================] - 0s 15ms/step - loss: 0.3824 - accuracy: 0.8646 - val_loss: 0.3438 - val_accuracy: 0.8333\n",
      "Epoch 17/100\n",
      "20/20 [==============================] - 0s 16ms/step - loss: 0.3814 - accuracy: 0.8333 - val_loss: 0.3278 - val_accuracy: 0.8333\n",
      "Epoch 18/100\n",
      "20/20 [==============================] - 0s 14ms/step - loss: 0.3681 - accuracy: 0.8438 - val_loss: 0.3086 - val_accuracy: 0.8333\n",
      "Epoch 19/100\n",
      "20/20 [==============================] - 0s 15ms/step - loss: 0.3420 - accuracy: 0.8646 - val_loss: 0.2908 - val_accuracy: 0.8750\n",
      "Epoch 20/100\n",
      "20/20 [==============================] - 0s 14ms/step - loss: 0.3288 - accuracy: 0.8958 - val_loss: 0.2728 - val_accuracy: 0.8750\n",
      "Epoch 21/100\n",
      "20/20 [==============================] - 0s 15ms/step - loss: 0.3062 - accuracy: 0.9062 - val_loss: 0.2567 - val_accuracy: 0.8750\n",
      "Epoch 22/100\n",
      "20/20 [==============================] - 0s 15ms/step - loss: 0.2823 - accuracy: 0.9167 - val_loss: 0.2403 - val_accuracy: 0.9167\n",
      "Epoch 23/100\n",
      "20/20 [==============================] - 0s 15ms/step - loss: 0.2640 - accuracy: 0.9062 - val_loss: 0.2261 - val_accuracy: 0.9167\n",
      "Epoch 24/100\n",
      "20/20 [==============================] - 0s 14ms/step - loss: 0.2650 - accuracy: 0.9271 - val_loss: 0.2110 - val_accuracy: 0.9167\n",
      "Epoch 25/100\n",
      "20/20 [==============================] - 0s 14ms/step - loss: 0.2617 - accuracy: 0.9375 - val_loss: 0.2038 - val_accuracy: 1.0000\n",
      "Epoch 26/100\n",
      "20/20 [==============================] - 0s 14ms/step - loss: 0.2533 - accuracy: 0.9167 - val_loss: 0.1918 - val_accuracy: 1.0000\n",
      "Epoch 27/100\n",
      "20/20 [==============================] - 0s 14ms/step - loss: 0.2142 - accuracy: 0.9479 - val_loss: 0.1811 - val_accuracy: 1.0000\n",
      "Epoch 28/100\n",
      "20/20 [==============================] - 0s 14ms/step - loss: 0.2170 - accuracy: 0.9479 - val_loss: 0.1692 - val_accuracy: 1.0000\n",
      "Epoch 29/100\n",
      "20/20 [==============================] - 0s 14ms/step - loss: 0.1926 - accuracy: 0.9479 - val_loss: 0.1589 - val_accuracy: 1.0000\n",
      "Epoch 30/100\n",
      "20/20 [==============================] - 0s 14ms/step - loss: 0.1775 - accuracy: 0.9479 - val_loss: 0.1482 - val_accuracy: 1.0000\n",
      "Epoch 31/100\n",
      "20/20 [==============================] - 0s 15ms/step - loss: 0.1576 - accuracy: 0.9688 - val_loss: 0.1375 - val_accuracy: 1.0000\n",
      "Epoch 32/100\n",
      "20/20 [==============================] - 0s 14ms/step - loss: 0.1522 - accuracy: 0.9688 - val_loss: 0.1317 - val_accuracy: 1.0000\n",
      "Epoch 33/100\n",
      "20/20 [==============================] - 0s 15ms/step - loss: 0.1518 - accuracy: 0.9688 - val_loss: 0.1242 - val_accuracy: 1.0000\n",
      "Epoch 34/100\n",
      "20/20 [==============================] - 0s 14ms/step - loss: 0.1368 - accuracy: 0.9583 - val_loss: 0.1200 - val_accuracy: 1.0000\n",
      "Epoch 35/100\n",
      "20/20 [==============================] - 0s 14ms/step - loss: 0.1241 - accuracy: 0.9688 - val_loss: 0.1094 - val_accuracy: 1.0000\n",
      "Epoch 36/100\n",
      "20/20 [==============================] - 0s 14ms/step - loss: 0.1287 - accuracy: 0.9792 - val_loss: 0.1036 - val_accuracy: 1.0000\n",
      "Epoch 37/100\n",
      "20/20 [==============================] - 0s 15ms/step - loss: 0.1179 - accuracy: 0.9688 - val_loss: 0.0939 - val_accuracy: 1.0000\n",
      "Epoch 38/100\n",
      "20/20 [==============================] - 0s 14ms/step - loss: 0.0969 - accuracy: 0.9896 - val_loss: 0.0894 - val_accuracy: 1.0000\n",
      "Epoch 39/100\n",
      "20/20 [==============================] - 0s 14ms/step - loss: 0.1043 - accuracy: 0.9896 - val_loss: 0.0927 - val_accuracy: 1.0000\n",
      "Epoch 40/100\n",
      "20/20 [==============================] - 0s 14ms/step - loss: 0.0989 - accuracy: 0.9896 - val_loss: 0.0859 - val_accuracy: 1.0000\n",
      "Epoch 41/100\n",
      "20/20 [==============================] - 0s 14ms/step - loss: 0.0940 - accuracy: 0.9688 - val_loss: 0.0798 - val_accuracy: 1.0000\n",
      "Epoch 42/100\n",
      "20/20 [==============================] - 0s 14ms/step - loss: 0.0915 - accuracy: 0.9792 - val_loss: 0.0697 - val_accuracy: 1.0000\n",
      "Epoch 43/100\n",
      "20/20 [==============================] - 0s 15ms/step - loss: 0.0926 - accuracy: 0.9688 - val_loss: 0.0686 - val_accuracy: 1.0000\n",
      "Epoch 44/100\n",
      "20/20 [==============================] - 0s 14ms/step - loss: 0.0823 - accuracy: 0.9688 - val_loss: 0.0648 - val_accuracy: 1.0000\n",
      "Epoch 45/100\n",
      "20/20 [==============================] - 0s 14ms/step - loss: 0.0860 - accuracy: 0.9792 - val_loss: 0.0620 - val_accuracy: 1.0000\n",
      "Epoch 46/100\n",
      "20/20 [==============================] - 0s 14ms/step - loss: 0.0807 - accuracy: 0.9688 - val_loss: 0.0603 - val_accuracy: 1.0000\n",
      "Epoch 47/100\n",
      "20/20 [==============================] - 0s 15ms/step - loss: 0.0610 - accuracy: 1.0000 - val_loss: 0.0530 - val_accuracy: 1.0000\n",
      "Epoch 48/100\n",
      "20/20 [==============================] - 0s 14ms/step - loss: 0.0664 - accuracy: 0.9792 - val_loss: 0.0534 - val_accuracy: 1.0000\n",
      "Epoch 49/100\n",
      "20/20 [==============================] - 0s 14ms/step - loss: 0.0610 - accuracy: 1.0000 - val_loss: 0.0559 - val_accuracy: 1.0000\n",
      "Epoch 50/100\n",
      "20/20 [==============================] - 0s 14ms/step - loss: 0.0562 - accuracy: 0.9896 - val_loss: 0.0599 - val_accuracy: 1.0000\n",
      "Epoch 51/100\n",
      "20/20 [==============================] - 0s 14ms/step - loss: 0.0643 - accuracy: 0.9792 - val_loss: 0.0549 - val_accuracy: 1.0000\n",
      "Epoch 52/100\n",
      "20/20 [==============================] - 0s 14ms/step - loss: 0.0676 - accuracy: 0.9896 - val_loss: 0.0497 - val_accuracy: 1.0000\n",
      "Epoch 53/100\n",
      "20/20 [==============================] - 0s 14ms/step - loss: 0.0655 - accuracy: 0.9792 - val_loss: 0.0460 - val_accuracy: 1.0000\n",
      "Epoch 54/100\n",
      "20/20 [==============================] - 0s 14ms/step - loss: 0.0615 - accuracy: 0.9896 - val_loss: 0.0519 - val_accuracy: 1.0000\n",
      "Epoch 55/100\n",
      "20/20 [==============================] - 0s 14ms/step - loss: 0.0567 - accuracy: 1.0000 - val_loss: 0.0502 - val_accuracy: 1.0000\n",
      "Epoch 56/100\n",
      "20/20 [==============================] - 0s 13ms/step - loss: 0.0589 - accuracy: 0.9896 - val_loss: 0.0430 - val_accuracy: 1.0000\n",
      "Epoch 57/100\n",
      "20/20 [==============================] - 0s 15ms/step - loss: 0.0503 - accuracy: 0.9896 - val_loss: 0.0476 - val_accuracy: 1.0000\n",
      "Epoch 58/100\n",
      "20/20 [==============================] - 0s 14ms/step - loss: 0.0561 - accuracy: 1.0000 - val_loss: 0.0406 - val_accuracy: 1.0000\n",
      "Epoch 59/100\n",
      "20/20 [==============================] - 0s 15ms/step - loss: 0.0451 - accuracy: 0.9792 - val_loss: 0.0420 - val_accuracy: 1.0000\n",
      "Epoch 60/100\n",
      "20/20 [==============================] - 0s 14ms/step - loss: 0.0515 - accuracy: 0.9792 - val_loss: 0.0457 - val_accuracy: 1.0000\n",
      "Epoch 61/100\n",
      "20/20 [==============================] - 0s 15ms/step - loss: 0.0495 - accuracy: 1.0000 - val_loss: 0.0423 - val_accuracy: 1.0000\n",
      "Epoch 62/100\n",
      "20/20 [==============================] - 0s 15ms/step - loss: 0.0826 - accuracy: 0.9688 - val_loss: 0.0348 - val_accuracy: 1.0000\n",
      "Epoch 63/100\n",
      "20/20 [==============================] - 0s 14ms/step - loss: 0.0489 - accuracy: 0.9792 - val_loss: 0.0373 - val_accuracy: 1.0000\n",
      "Epoch 64/100\n",
      "20/20 [==============================] - 0s 15ms/step - loss: 0.0429 - accuracy: 1.0000 - val_loss: 0.0465 - val_accuracy: 1.0000\n",
      "Epoch 65/100\n",
      "20/20 [==============================] - 0s 14ms/step - loss: 0.0367 - accuracy: 1.0000 - val_loss: 0.0426 - val_accuracy: 1.0000\n",
      "Epoch 66/100\n",
      "20/20 [==============================] - 0s 14ms/step - loss: 0.0411 - accuracy: 0.9896 - val_loss: 0.0455 - val_accuracy: 1.0000\n",
      "Epoch 67/100\n",
      "20/20 [==============================] - 0s 14ms/step - loss: 0.0403 - accuracy: 0.9896 - val_loss: 0.0389 - val_accuracy: 1.0000\n",
      "Epoch 68/100\n",
      "20/20 [==============================] - 0s 13ms/step - loss: 0.0565 - accuracy: 0.9792 - val_loss: 0.0345 - val_accuracy: 1.0000\n",
      "Epoch 69/100\n",
      "20/20 [==============================] - 0s 14ms/step - loss: 0.0522 - accuracy: 0.9792 - val_loss: 0.0354 - val_accuracy: 1.0000\n",
      "Epoch 70/100\n",
      "20/20 [==============================] - 0s 13ms/step - loss: 0.0490 - accuracy: 0.9896 - val_loss: 0.0361 - val_accuracy: 1.0000\n",
      "Epoch 71/100\n",
      "20/20 [==============================] - 0s 13ms/step - loss: 0.0512 - accuracy: 0.9688 - val_loss: 0.0297 - val_accuracy: 1.0000\n",
      "Epoch 72/100\n",
      "20/20 [==============================] - 0s 14ms/step - loss: 0.0415 - accuracy: 0.9896 - val_loss: 0.0306 - val_accuracy: 1.0000\n",
      "Epoch 73/100\n",
      "20/20 [==============================] - 0s 13ms/step - loss: 0.0531 - accuracy: 0.9792 - val_loss: 0.0295 - val_accuracy: 1.0000\n",
      "Epoch 74/100\n",
      "20/20 [==============================] - 0s 13ms/step - loss: 0.0386 - accuracy: 0.9896 - val_loss: 0.0303 - val_accuracy: 1.0000\n",
      "Epoch 75/100\n",
      "20/20 [==============================] - 0s 14ms/step - loss: 0.0416 - accuracy: 0.9896 - val_loss: 0.0421 - val_accuracy: 1.0000\n",
      "Epoch 76/100\n",
      "20/20 [==============================] - 0s 14ms/step - loss: 0.0490 - accuracy: 0.9792 - val_loss: 0.0347 - val_accuracy: 1.0000\n",
      "Epoch 77/100\n",
      "20/20 [==============================] - 0s 16ms/step - loss: 0.0379 - accuracy: 0.9896 - val_loss: 0.0372 - val_accuracy: 1.0000\n",
      "Epoch 78/100\n",
      "20/20 [==============================] - 0s 15ms/step - loss: 0.0424 - accuracy: 0.9792 - val_loss: 0.0415 - val_accuracy: 1.0000\n",
      "Epoch 79/100\n",
      "20/20 [==============================] - 0s 14ms/step - loss: 0.0404 - accuracy: 0.9792 - val_loss: 0.0390 - val_accuracy: 1.0000\n",
      "Epoch 80/100\n",
      "20/20 [==============================] - 0s 14ms/step - loss: 0.0328 - accuracy: 1.0000 - val_loss: 0.0371 - val_accuracy: 1.0000\n",
      "Epoch 81/100\n",
      "20/20 [==============================] - 0s 16ms/step - loss: 0.0345 - accuracy: 0.9896 - val_loss: 0.0307 - val_accuracy: 1.0000\n",
      "Epoch 82/100\n",
      "20/20 [==============================] - 0s 14ms/step - loss: 0.0342 - accuracy: 1.0000 - val_loss: 0.0298 - val_accuracy: 1.0000\n",
      "Epoch 83/100\n",
      "20/20 [==============================] - 0s 15ms/step - loss: 0.0331 - accuracy: 1.0000 - val_loss: 0.0330 - val_accuracy: 1.0000\n",
      "Epoch 84/100\n",
      "20/20 [==============================] - 0s 15ms/step - loss: 0.0284 - accuracy: 0.9896 - val_loss: 0.0415 - val_accuracy: 1.0000\n",
      "Epoch 85/100\n",
      "20/20 [==============================] - 0s 13ms/step - loss: 0.0279 - accuracy: 1.0000 - val_loss: 0.0377 - val_accuracy: 1.0000\n",
      "Epoch 86/100\n",
      "20/20 [==============================] - 0s 13ms/step - loss: 0.0352 - accuracy: 1.0000 - val_loss: 0.0366 - val_accuracy: 1.0000\n",
      "Epoch 87/100\n",
      "20/20 [==============================] - 0s 14ms/step - loss: 0.0526 - accuracy: 0.9896 - val_loss: 0.0511 - val_accuracy: 0.9583\n",
      "Epoch 88/100\n",
      "20/20 [==============================] - 0s 14ms/step - loss: 0.0232 - accuracy: 1.0000 - val_loss: 0.0430 - val_accuracy: 1.0000\n",
      "Epoch 89/100\n",
      "20/20 [==============================] - 0s 15ms/step - loss: 0.0302 - accuracy: 1.0000 - val_loss: 0.0366 - val_accuracy: 1.0000\n",
      "Epoch 90/100\n",
      "20/20 [==============================] - 0s 15ms/step - loss: 0.0298 - accuracy: 1.0000 - val_loss: 0.0362 - val_accuracy: 1.0000\n",
      "Epoch 91/100\n",
      "20/20 [==============================] - 0s 14ms/step - loss: 0.0485 - accuracy: 0.9792 - val_loss: 0.0357 - val_accuracy: 1.0000\n",
      "Epoch 92/100\n",
      "20/20 [==============================] - 0s 14ms/step - loss: 0.0464 - accuracy: 0.9896 - val_loss: 0.0388 - val_accuracy: 1.0000\n",
      "Epoch 93/100\n",
      "20/20 [==============================] - 0s 15ms/step - loss: 0.0309 - accuracy: 0.9896 - val_loss: 0.0431 - val_accuracy: 1.0000\n",
      "Epoch 94/100\n",
      "20/20 [==============================] - 0s 14ms/step - loss: 0.0343 - accuracy: 0.9896 - val_loss: 0.0412 - val_accuracy: 1.0000\n",
      "Epoch 95/100\n",
      "20/20 [==============================] - 0s 14ms/step - loss: 0.0242 - accuracy: 1.0000 - val_loss: 0.0436 - val_accuracy: 0.9583\n",
      "Epoch 96/100\n",
      "20/20 [==============================] - 0s 15ms/step - loss: 0.0199 - accuracy: 1.0000 - val_loss: 0.0323 - val_accuracy: 1.0000\n",
      "Epoch 97/100\n",
      "20/20 [==============================] - 0s 14ms/step - loss: 0.0334 - accuracy: 0.9896 - val_loss: 0.0313 - val_accuracy: 1.0000\n",
      "Epoch 98/100\n",
      "20/20 [==============================] - 0s 15ms/step - loss: 0.0267 - accuracy: 0.9896 - val_loss: 0.0305 - val_accuracy: 1.0000\n",
      "Epoch 99/100\n",
      "20/20 [==============================] - 0s 14ms/step - loss: 0.0225 - accuracy: 1.0000 - val_loss: 0.0315 - val_accuracy: 1.0000\n",
      "Epoch 100/100\n",
      "20/20 [==============================] - 0s 14ms/step - loss: 0.0290 - accuracy: 0.9792 - val_loss: 0.0297 - val_accuracy: 1.0000\n"
     ]
    }
   ],
   "source": [
    "import datetime\n",
    "batch_size = 5\n",
    "epochs = 100\n",
    "\n",
    "model.compile(loss=\"categorical_crossentropy\", optimizer = keras.optimizers.Adam(learning_rate = 0.001), metrics=[\"accuracy\"])\n",
    "\n",
    "log_dir = \"irislogs/smallk1k0/\" + datetime.datetime.now().strftime(\"%Y%m%d-%H%M%S\")\n",
    "tensorboard_callback = tf.keras.callbacks.TensorBoard(log_dir=log_dir, histogram_freq=1)\n",
    "\n",
    "history = model.fit(X_train, Y_train, batch_size=batch_size, epochs=epochs, validation_split=0.2 ,callbacks=[tensorboard_callback], verbose=1)"
   ]
  },
  {
   "cell_type": "code",
   "execution_count": 31,
   "id": "deb94794",
   "metadata": {
    "scrolled": false
   },
   "outputs": [
    {
     "name": "stdout",
     "output_type": "stream",
     "text": [
      "[1.0368801355361938, 0.9736173748970032, 0.8964828848838806, 0.81990647315979, 0.7912871837615967, 0.7478959560394287, 0.6884776949882507, 0.6519716382026672, 0.6125746369361877, 0.5522581934928894, 0.5284008383750916, 0.4983959197998047, 0.45869266986846924, 0.42497703433036804, 0.4036462604999542, 0.382389634847641, 0.38142839074134827, 0.36813822388648987, 0.34204575419425964, 0.328821063041687, 0.30623993277549744, 0.28228750824928284, 0.26399779319763184, 0.2650189697742462, 0.26166197657585144, 0.2532854974269867, 0.21423371136188507, 0.21703024208545685, 0.19256092607975006, 0.1775403618812561, 0.15763242542743683, 0.15220306813716888, 0.15182295441627502, 0.13683199882507324, 0.12407535314559937, 0.12867549061775208, 0.11789164692163467, 0.09685149043798447, 0.10434537380933762, 0.09889128059148788, 0.09396856278181076, 0.09148944169282913, 0.09259706735610962, 0.08230830729007721, 0.08599420636892319, 0.08072876930236816, 0.06098219379782677, 0.06642164289951324, 0.061028819531202316, 0.05620381236076355, 0.06428591161966324, 0.06763943284749985, 0.06553740054368973, 0.06148506700992584, 0.05667877197265625, 0.05893206596374512, 0.05025390908122063, 0.05611906945705414, 0.04513869062066078, 0.05147737264633179, 0.049478109925985336, 0.08264176547527313, 0.048934534192085266, 0.04291677102446556, 0.036695446819067, 0.041120294481515884, 0.04033029451966286, 0.056532472372055054, 0.052195098251104355, 0.049047019332647324, 0.05124315991997719, 0.04145859181880951, 0.05308173969388008, 0.03861112520098686, 0.04164633899927139, 0.04895537719130516, 0.03792065009474754, 0.042441923171281815, 0.04042491689324379, 0.032832350581884384, 0.0344686433672905, 0.03422463312745094, 0.033115874975919724, 0.02836599387228489, 0.02786601521074772, 0.03523534908890724, 0.05257154628634453, 0.023233914747834206, 0.030194232240319252, 0.0298306867480278, 0.04851491376757622, 0.04635410010814667, 0.03086397983133793, 0.03427752107381821, 0.024176323786377907, 0.01985577866435051, 0.033419303596019745, 0.02668415941298008, 0.022501908242702484, 0.028986701741814613]\n"
     ]
    }
   ],
   "source": [
    "# parameter updates during training\n",
    "parameter_updates = history.history['loss']\n",
    "print(parameter_updates)"
   ]
  },
  {
   "cell_type": "code",
   "execution_count": 33,
   "id": "86c01ebe",
   "metadata": {
    "scrolled": false
   },
   "outputs": [
    {
     "name": "stdout",
     "output_type": "stream",
     "text": [
      "[array([[ 3.36518914e-01,  9.45661624e-04,  1.29958183e-01,\n",
      "         4.64792848e-02, -6.01450875e-02, -9.79695916e-02,\n",
      "        -2.69006751e-02,  8.71275514e-02, -7.75232017e-01,\n",
      "         1.03833731e-02, -3.25446159e-01, -4.07428481e-02,\n",
      "         2.18180522e-01,  3.95352602e-01,  3.14585827e-02,\n",
      "        -2.31266856e-01, -2.41660755e-02,  5.45036376e-01,\n",
      "        -8.19759741e-02,  8.89247805e-02, -2.61368692e-01,\n",
      "         9.33054835e-03,  1.84734672e-01,  3.12190175e-01,\n",
      "         1.05926715e-01],\n",
      "       [ 2.85480712e-02,  2.39328340e-01, -5.39144933e-01,\n",
      "        -7.25233040e-05, -4.69962955e-01, -4.90437269e-01,\n",
      "         2.05628708e-01, -4.55864757e-01,  4.85984445e-01,\n",
      "        -3.95757169e-01, -2.16085583e-01, -1.46059468e-01,\n",
      "         4.19139862e-01,  2.95978487e-01,  5.70053644e-02,\n",
      "        -9.87346657e-03,  5.04915893e-01, -3.49239469e-01,\n",
      "        -2.67708868e-01, -1.44502044e-01,  5.88758662e-02,\n",
      "         2.38620773e-01, -2.42737293e-01, -2.26352841e-01,\n",
      "         2.86231518e-01],\n",
      "       [ 2.49694198e-01,  3.48891437e-01, -3.36186200e-01,\n",
      "         9.56204087e-02,  8.42313409e-01,  1.40828118e-01,\n",
      "        -6.51159346e-01,  5.75120151e-01, -2.08515823e-01,\n",
      "         5.13109684e-01, -4.39546317e-01,  1.29377320e-01,\n",
      "        -3.48218143e-01, -7.68477380e-01, -2.68782169e-01,\n",
      "        -3.43028873e-01, -1.91524386e-01, -1.37118846e-01,\n",
      "         6.10952020e-01,  4.77507830e-01,  4.57473367e-01,\n",
      "        -2.43273005e-01,  4.78315622e-01,  3.35428178e-01,\n",
      "         1.69186473e-01],\n",
      "       [ 1.79740563e-01,  5.50908625e-01, -2.02589724e-02,\n",
      "         6.32274508e-01,  1.66515663e-01, -1.77807242e-01,\n",
      "        -2.34937295e-01,  7.23053038e-01,  3.46164316e-01,\n",
      "         5.65856338e-01,  1.99059710e-01,  3.86043698e-01,\n",
      "        -4.28979248e-01, -6.67723358e-01, -1.86673805e-01,\n",
      "        -2.43270528e-02,  1.03797667e-01, -5.71565935e-03,\n",
      "         5.54180920e-01,  5.61084032e-01, -1.48052618e-01,\n",
      "        -1.99636832e-01, -5.90075972e-03,  4.55547810e-01,\n",
      "        -5.39706886e-01]], dtype=float32), array([-0.20730925,  0.33363655,  0.30498397,  0.33535093, -0.20715003,\n",
      "       -0.01032871,  0.09748966, -0.15660995, -0.6668139 , -0.217876  ,\n",
      "        0.09798104, -0.50323987,  0.02711718, -0.16958964,  0.1514512 ,\n",
      "       -0.09977355, -0.5211474 ,  0.2982614 , -0.1661879 , -0.11170899,\n",
      "        0.09140085,  0.09144839, -0.11991406, -0.14559978,  0.10518085],\n",
      "      dtype=float32), -0.50128835, -0.27183107, 1.6314266, array([[ 0.4812251 , -0.08879232, -0.15935126],\n",
      "       [-0.46870956, -0.01069815,  0.65233487],\n",
      "       [-0.3608397 ,  0.2786747 , -0.3068815 ],\n",
      "       [-0.63373566, -0.36131865,  0.8944776 ],\n",
      "       [ 0.25432232, -0.5273873 , -0.06797656],\n",
      "       [-0.01409506,  0.16356167, -0.24777728],\n",
      "       [ 0.3069513 , -0.79421556,  0.5304477 ],\n",
      "       [ 0.11545015, -0.75612473,  0.00386486],\n",
      "       [-0.8121787 ,  0.32451546, -0.23154467],\n",
      "       [ 0.29292557, -0.5083178 ,  0.00380781],\n",
      "       [ 0.26236978, -0.07782664, -0.14275692],\n",
      "       [ 0.6910815 , -0.1522944 , -0.5043069 ],\n",
      "       [-0.21078907, -0.709828  ,  0.06441257],\n",
      "       [-0.5682632 , -0.64520043,  0.11036694],\n",
      "       [ 0.63106984, -0.62826943, -0.06140503],\n",
      "       [-0.48819736, -0.39603513,  0.5602532 ],\n",
      "       [-0.7527432 ,  0.45572025,  0.15579352],\n",
      "       [ 0.06459404,  0.3291592 , -0.04465121],\n",
      "       [ 0.802994  , -0.89862865,  0.3032288 ],\n",
      "       [ 0.51546335, -0.10716763,  0.35462987],\n",
      "       [-0.1682642 , -0.39875475,  0.47746184],\n",
      "       [ 0.3204564 , -0.42095128,  0.3660436 ],\n",
      "       [ 0.38211605, -0.61284345,  0.0590186 ],\n",
      "       [ 0.47794604, -0.57762223,  0.12635359],\n",
      "       [ 0.53094345, -0.25653213,  0.328613  ]], dtype=float32), array([-0.30726677,  0.4044803 , -0.1856612 ], dtype=float32)]\n"
     ]
    }
   ],
   "source": [
    "# final parameter values at the end of training\n",
    "final_parameter_values = model.get_weights()\n",
    "print(final_parameter_values)"
   ]
  },
  {
   "cell_type": "code",
   "execution_count": 34,
   "id": "b06aa072",
   "metadata": {},
   "outputs": [
    {
     "name": "stdout",
     "output_type": "stream",
     "text": [
      "206\n"
     ]
    }
   ],
   "source": [
    "total_parameters = model.count_params()\n",
    "print(total_parameters)"
   ]
  },
  {
   "cell_type": "code",
   "execution_count": 15,
   "id": "a3b5a3e6",
   "metadata": {},
   "outputs": [
    {
     "name": "stdout",
     "output_type": "stream",
     "text": [
      "Test loss: 0.14373429119586945\n",
      "Test accuracy: 0.9333333373069763\n"
     ]
    }
   ],
   "source": [
    "score = model.evaluate(X_test, Y_test, verbose=0)\n",
    "print(\"Test loss:\", score[0])\n",
    "print(\"Test accuracy:\", score[1])"
   ]
  },
  {
   "cell_type": "code",
   "execution_count": 38,
   "id": "5acc3fdd",
   "metadata": {},
   "outputs": [
    {
     "name": "stdout",
     "output_type": "stream",
     "text": [
      "AF coefficients (weights) [-0.50128835, -0.27183107, 1.6314266]\n"
     ]
    }
   ],
   "source": [
    "# Optimal Value of k0,k1 & k2\n",
    "print(\"AF coefficients (weights) {}\".format(act.get_weights()))"
   ]
  },
  {
   "cell_type": "code",
   "execution_count": 17,
   "id": "775781be",
   "metadata": {},
   "outputs": [],
   "source": [
    "from sklearn.metrics import f1_score\n",
    "# training and test loss\n",
    "train_loss = history.history['loss']\n",
    "val_loss = history.history['val_loss']"
   ]
  },
  {
   "cell_type": "code",
   "execution_count": 37,
   "id": "6449133f",
   "metadata": {},
   "outputs": [
    {
     "name": "stdout",
     "output_type": "stream",
     "text": [
      "0.028986701741814613\n"
     ]
    }
   ],
   "source": [
    "print(train_loss[-1])"
   ]
  },
  {
   "cell_type": "code",
   "execution_count": 18,
   "id": "2e930fc9",
   "metadata": {},
   "outputs": [],
   "source": [
    "# training and testing accuracy\n",
    "train_accuracy = history.history['accuracy']\n",
    "val_accuracy = history.history['val_accuracy']"
   ]
  },
  {
   "cell_type": "code",
   "execution_count": 35,
   "id": "fdd26a27",
   "metadata": {},
   "outputs": [
    {
     "name": "stdout",
     "output_type": "stream",
     "text": [
      "0.9791666865348816\n"
     ]
    }
   ],
   "source": [
    "print(train_accuracy[-1])"
   ]
  },
  {
   "cell_type": "code",
   "execution_count": 20,
   "id": "47bcee44",
   "metadata": {},
   "outputs": [
    {
     "name": "stdout",
     "output_type": "stream",
     "text": [
      "1/1 [==============================] - 0s 222ms/step\n"
     ]
    }
   ],
   "source": [
    "# predictions on the test set\n",
    "y_pred = model.predict(X_test)\n",
    "y_pred = np.argmax(y_pred, axis=1)"
   ]
  },
  {
   "cell_type": "code",
   "execution_count": 21,
   "id": "aceef5ee",
   "metadata": {},
   "outputs": [],
   "source": [
    "#  F1-Score\n",
    "f1 = f1_score(np.argmax(Y_test, axis=1), y_pred, average='weighted')"
   ]
  },
  {
   "cell_type": "code",
   "execution_count": 22,
   "id": "04065886",
   "metadata": {},
   "outputs": [
    {
     "name": "stdout",
     "output_type": "stream",
     "text": [
      "Test loss: 0.14373429119586945\n",
      "Test accuracy: 0.9333333373069763\n",
      "F1-Score: 0.9333333333333333\n"
     ]
    }
   ],
   "source": [
    "# Print test loss, test accuracy, and F1-Score\n",
    "score = model.evaluate(X_test, Y_test, verbose=0)\n",
    "print(\"Test loss:\", score[0])\n",
    "print(\"Test accuracy:\", score[1])\n",
    "print(\"F1-Score:\", f1)"
   ]
  },
  {
   "cell_type": "code",
   "execution_count": 23,
   "id": "566b4e0c",
   "metadata": {},
   "outputs": [
    {
     "data": {
      "image/png": "[encoded data removed]",
      "text/plain": [
       "<Figure size 640x480 with 1 Axes>"
      ]
     },
     "metadata": {},
     "output_type": "display_data"
    }
   ],
   "source": [
    "# Plot of loss function vs. epochs\n",
    "plt.plot(range(1, epochs + 1), train_loss, label='Train Loss')\n",
    "plt.plot(range(1, epochs + 1), val_loss, label='Validation Loss')\n",
    "plt.xlabel('Epochs')\n",
    "plt.ylabel('Loss')\n",
    "plt.title('Loss Function vs. Epochs')\n",
    "plt.legend()\n",
    "plt.show()"
   ]
  },
  {
   "cell_type": "code",
   "execution_count": null,
   "id": "cd776002",
   "metadata": {},
   "outputs": [],
   "source": []
  }
 ],
 "metadata": {
  "kernelspec": {
   "display_name": "Python 3 (ipykernel)",
   "language": "python",
   "name": "python3"
  },
  "language_info": {
   "codemirror_mode": {
    "name": "ipython",
    "version": 3
   },
   "file_extension": ".py",
   "mimetype": "text/x-python",
   "name": "python",
   "nbconvert_exporter": "python",
   "pygments_lexer": "ipython3",
   "version": "3.10.6"
  }
 },
 "nbformat": 4,
 "nbformat_minor": 5
}
