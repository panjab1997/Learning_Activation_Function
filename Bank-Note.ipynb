{
 "cells": [
  {
   "cell_type": "code",
   "execution_count": 1,
   "id": "70faa39a",
   "metadata": {},
   "outputs": [],
   "source": [
    "# Some neccessary Libraries \n",
    "import pandas as pd \n",
    "import numpy as np\n",
    "import matplotlib.pyplot as plt\n",
    "import seaborn as sns\n",
    "import tensorflow as tf\n",
    "from tensorflow import keras\n",
    "from tensorflow.keras import layers\n",
    "from tensorflow.keras.models import Sequential\n",
    "from sklearn.model_selection import train_test_split\n",
    "from sklearn.preprocessing import OneHotEncoder, StandardScaler\n",
    "%load_ext tensorboard"
   ]
  },
  {
   "cell_type": "code",
   "execution_count": 2,
   "id": "da5612b3",
   "metadata": {},
   "outputs": [
    {
     "data": {
      "text/html": [
       "<div>\n",
       "<style scoped>\n",
       "    .dataframe tbody tr th:only-of-type {\n",
       "        vertical-align: middle;\n",
       "    }\n",
       "\n",
       "    .dataframe tbody tr th {\n",
       "        vertical-align: top;\n",
       "    }\n",
       "\n",
       "    .dataframe thead th {\n",
       "        text-align: right;\n",
       "    }\n",
       "</style>\n",
       "<table border=\"1\" class=\"dataframe\">\n",
       "  <thead>\n",
       "    <tr style=\"text-align: right;\">\n",
       "      <th></th>\n",
       "      <th>variance</th>\n",
       "      <th>skewness</th>\n",
       "      <th>curtosis</th>\n",
       "      <th>entropy</th>\n",
       "      <th>class</th>\n",
       "    </tr>\n",
       "  </thead>\n",
       "  <tbody>\n",
       "    <tr>\n",
       "      <th>0</th>\n",
       "      <td>3.62160</td>\n",
       "      <td>8.6661</td>\n",
       "      <td>-2.8073</td>\n",
       "      <td>-0.44699</td>\n",
       "      <td>0</td>\n",
       "    </tr>\n",
       "    <tr>\n",
       "      <th>1</th>\n",
       "      <td>4.54590</td>\n",
       "      <td>8.1674</td>\n",
       "      <td>-2.4586</td>\n",
       "      <td>-1.46210</td>\n",
       "      <td>0</td>\n",
       "    </tr>\n",
       "    <tr>\n",
       "      <th>2</th>\n",
       "      <td>3.86600</td>\n",
       "      <td>-2.6383</td>\n",
       "      <td>1.9242</td>\n",
       "      <td>0.10645</td>\n",
       "      <td>0</td>\n",
       "    </tr>\n",
       "    <tr>\n",
       "      <th>3</th>\n",
       "      <td>3.45660</td>\n",
       "      <td>9.5228</td>\n",
       "      <td>-4.0112</td>\n",
       "      <td>-3.59440</td>\n",
       "      <td>0</td>\n",
       "    </tr>\n",
       "    <tr>\n",
       "      <th>4</th>\n",
       "      <td>0.32924</td>\n",
       "      <td>-4.4552</td>\n",
       "      <td>4.5718</td>\n",
       "      <td>-0.98880</td>\n",
       "      <td>0</td>\n",
       "    </tr>\n",
       "  </tbody>\n",
       "</table>\n",
       "</div>"
      ],
      "text/plain": [
       "   variance  skewness  curtosis  entropy  class\n",
       "0   3.62160    8.6661   -2.8073 -0.44699      0\n",
       "1   4.54590    8.1674   -2.4586 -1.46210      0\n",
       "2   3.86600   -2.6383    1.9242  0.10645      0\n",
       "3   3.45660    9.5228   -4.0112 -3.59440      0\n",
       "4   0.32924   -4.4552    4.5718 -0.98880      0"
      ]
     },
     "execution_count": 2,
     "metadata": {},
     "output_type": "execute_result"
    }
   ],
   "source": [
    "# Load the IRIS Dataset\n",
    "Bank_note = pd.read_csv('BankNote.csv')\n",
    "Bank_note.head() "
   ]
  },
  {
   "cell_type": "code",
   "execution_count": 3,
   "id": "ed367914",
   "metadata": {},
   "outputs": [
    {
     "name": "stdout",
     "output_type": "stream",
     "text": [
      "<class 'pandas.core.frame.DataFrame'>\n",
      "RangeIndex: 1372 entries, 0 to 1371\n",
      "Data columns (total 5 columns):\n",
      " #   Column    Non-Null Count  Dtype  \n",
      "---  ------    --------------  -----  \n",
      " 0   variance  1372 non-null   float64\n",
      " 1   skewness  1372 non-null   float64\n",
      " 2   curtosis  1372 non-null   float64\n",
      " 3   entropy   1372 non-null   float64\n",
      " 4   class     1372 non-null   int64  \n",
      "dtypes: float64(4), int64(1)\n",
      "memory usage: 53.7 KB\n"
     ]
    }
   ],
   "source": [
    "Bank_note.info()"
   ]
  },
  {
   "cell_type": "code",
   "execution_count": 4,
   "id": "479bddd8",
   "metadata": {},
   "outputs": [
    {
     "data": {
      "text/html": [
       "<div>\n",
       "<style scoped>\n",
       "    .dataframe tbody tr th:only-of-type {\n",
       "        vertical-align: middle;\n",
       "    }\n",
       "\n",
       "    .dataframe tbody tr th {\n",
       "        vertical-align: top;\n",
       "    }\n",
       "\n",
       "    .dataframe thead th {\n",
       "        text-align: right;\n",
       "    }\n",
       "</style>\n",
       "<table border=\"1\" class=\"dataframe\">\n",
       "  <thead>\n",
       "    <tr style=\"text-align: right;\">\n",
       "      <th></th>\n",
       "      <th>variance</th>\n",
       "      <th>skewness</th>\n",
       "      <th>curtosis</th>\n",
       "      <th>entropy</th>\n",
       "      <th>class</th>\n",
       "    </tr>\n",
       "  </thead>\n",
       "  <tbody>\n",
       "    <tr>\n",
       "      <th>count</th>\n",
       "      <td>1372.000000</td>\n",
       "      <td>1372.000000</td>\n",
       "      <td>1372.000000</td>\n",
       "      <td>1372.000000</td>\n",
       "      <td>1372.000000</td>\n",
       "    </tr>\n",
       "    <tr>\n",
       "      <th>mean</th>\n",
       "      <td>0.433735</td>\n",
       "      <td>1.922353</td>\n",
       "      <td>1.397627</td>\n",
       "      <td>-1.191657</td>\n",
       "      <td>0.444606</td>\n",
       "    </tr>\n",
       "    <tr>\n",
       "      <th>std</th>\n",
       "      <td>2.842763</td>\n",
       "      <td>5.869047</td>\n",
       "      <td>4.310030</td>\n",
       "      <td>2.101013</td>\n",
       "      <td>0.497103</td>\n",
       "    </tr>\n",
       "    <tr>\n",
       "      <th>min</th>\n",
       "      <td>-7.042100</td>\n",
       "      <td>-13.773100</td>\n",
       "      <td>-5.286100</td>\n",
       "      <td>-8.548200</td>\n",
       "      <td>0.000000</td>\n",
       "    </tr>\n",
       "    <tr>\n",
       "      <th>25%</th>\n",
       "      <td>-1.773000</td>\n",
       "      <td>-1.708200</td>\n",
       "      <td>-1.574975</td>\n",
       "      <td>-2.413450</td>\n",
       "      <td>0.000000</td>\n",
       "    </tr>\n",
       "    <tr>\n",
       "      <th>50%</th>\n",
       "      <td>0.496180</td>\n",
       "      <td>2.319650</td>\n",
       "      <td>0.616630</td>\n",
       "      <td>-0.586650</td>\n",
       "      <td>0.000000</td>\n",
       "    </tr>\n",
       "    <tr>\n",
       "      <th>75%</th>\n",
       "      <td>2.821475</td>\n",
       "      <td>6.814625</td>\n",
       "      <td>3.179250</td>\n",
       "      <td>0.394810</td>\n",
       "      <td>1.000000</td>\n",
       "    </tr>\n",
       "    <tr>\n",
       "      <th>max</th>\n",
       "      <td>6.824800</td>\n",
       "      <td>12.951600</td>\n",
       "      <td>17.927400</td>\n",
       "      <td>2.449500</td>\n",
       "      <td>1.000000</td>\n",
       "    </tr>\n",
       "  </tbody>\n",
       "</table>\n",
       "</div>"
      ],
      "text/plain": [
       "          variance     skewness     curtosis      entropy        class\n",
       "count  1372.000000  1372.000000  1372.000000  1372.000000  1372.000000\n",
       "mean      0.433735     1.922353     1.397627    -1.191657     0.444606\n",
       "std       2.842763     5.869047     4.310030     2.101013     0.497103\n",
       "min      -7.042100   -13.773100    -5.286100    -8.548200     0.000000\n",
       "25%      -1.773000    -1.708200    -1.574975    -2.413450     0.000000\n",
       "50%       0.496180     2.319650     0.616630    -0.586650     0.000000\n",
       "75%       2.821475     6.814625     3.179250     0.394810     1.000000\n",
       "max       6.824800    12.951600    17.927400     2.449500     1.000000"
      ]
     },
     "execution_count": 4,
     "metadata": {},
     "output_type": "execute_result"
    }
   ],
   "source": [
    "Bank_note.describe() # Statistical summary of the iris dataset"
   ]
  },
  {
   "cell_type": "code",
   "execution_count": 5,
   "id": "9a6280e6",
   "metadata": {},
   "outputs": [
    {
     "data": {
      "text/plain": [
       "variance    0.0\n",
       "skewness    0.0\n",
       "curtosis    0.0\n",
       "entropy     0.0\n",
       "class       0.0\n",
       "dtype: float64"
      ]
     },
     "execution_count": 5,
     "metadata": {},
     "output_type": "execute_result"
    }
   ],
   "source": [
    "# Check for missing value\n",
    "Bank_note.isnull().sum()/len(Bank_note)*100"
   ]
  },
  {
   "cell_type": "markdown",
   "id": "6192d9ec",
   "metadata": {},
   "source": [
    "As you can see the result , there are no missing values"
   ]
  },
  {
   "cell_type": "markdown",
   "id": "5b41189b",
   "metadata": {},
   "source": [
    "# Vizualization of the data"
   ]
  },
  {
   "cell_type": "code",
   "execution_count": 6,
   "id": "0080ed66",
   "metadata": {},
   "outputs": [
    {
     "data": {
      "text/plain": [
       "Text(0.5, 1.0, 'Distribution of Class')"
      ]
     },
     "execution_count": 6,
     "metadata": {},
     "output_type": "execute_result"
    },
    {
     "data": {
      "image/png": "[encoded data removed]",
      "text/plain": [
       "<Figure size 640x480 with 1 Axes>"
      ]
     },
     "metadata": {},
     "output_type": "display_data"
    }
   ],
   "source": [
    "# Target Variable \n",
    "plt.style.use('ggplot')\n",
    "sns.countplot(data = Bank_note , x = 'class')\n",
    "plt.title('Distribution of Class')"
   ]
  },
  {
   "cell_type": "markdown",
   "id": "8038ed92",
   "metadata": {},
   "source": [
    "### Data preprocessing Steps"
   ]
  },
  {
   "cell_type": "code",
   "execution_count": 7,
   "id": "068bd6ba",
   "metadata": {},
   "outputs": [],
   "source": [
    "# Split data into target & predictors\n",
    "X = Bank_note.iloc[: , :4]\n",
    "y = Bank_note.iloc[: , -1]"
   ]
  },
  {
   "cell_type": "code",
   "execution_count": 8,
   "id": "d703cfb0",
   "metadata": {},
   "outputs": [],
   "source": [
    "# Standard Scaling ,important for convergence of the neural network\n",
    "scaler = StandardScaler()\n",
    "X_scaled = scaler.fit_transform(X)"
   ]
  },
  {
   "cell_type": "code",
   "execution_count": 9,
   "id": "07cddff0",
   "metadata": {},
   "outputs": [],
   "source": [
    "# Split the dataset into training and testing\n",
    "X_train, X_test, Y_train, Y_test = train_test_split(\n",
    "    X_scaled, y, test_size=0.2, random_state=4)\n",
    "\n",
    "n_features = X.shape[1]\n",
    "n_classes = 2"
   ]
  },
  {
   "cell_type": "code",
   "execution_count": 10,
   "id": "f6b3699f",
   "metadata": {},
   "outputs": [],
   "source": [
    "# Convert the target labels to one-hot encoded format\n",
    "Y_train = tf.keras.utils.to_categorical(Y_train, num_classes=2)"
   ]
  },
  {
   "cell_type": "code",
   "execution_count": 11,
   "id": "8f18e29f",
   "metadata": {},
   "outputs": [],
   "source": [
    "Y_test = tf.keras.utils.to_categorical(Y_test, num_classes=2)"
   ]
  },
  {
   "cell_type": "code",
   "execution_count": 12,
   "id": "dabf1c71",
   "metadata": {},
   "outputs": [],
   "source": [
    "# neural network architecture for adaptive activation function (AF) selection\n",
    "\n",
    "initializer0 = keras.initializers.RandomUniform(minval = -0.01, maxval =0.1)\n",
    "initializer1 = keras.initializers.RandomUniform(minval = -0.01, maxval =0.1)\n",
    "initializer2 = keras.initializers.RandomUniform(minval = 0.5, maxval =1.5)\n",
    "\n",
    "class Ada_act(keras.layers.Layer):\n",
    "    def __init__(self):\n",
    "        super(Ada_act, self).__init__()\n",
    "        self.k0 = self.add_weight(name='k0', shape = (), initializer=initializer0, trainable=True)\n",
    "        self.k1 = self.add_weight(name='k1', shape = (), initializer=initializer1, trainable=True)\n",
    "        self.k2 = self.add_weight(name='k2', shape = (), initializer=initializer2, trainable=True)\n",
    "        \n",
    "    def call(self, inputs):\n",
    "        return self.k0 + tf.multiply(inputs, self.k1) + tf.multiply(tf.multiply(inputs,inputs), self.k2)"
   ]
  },
  {
   "cell_type": "code",
   "execution_count": 13,
   "id": "c6241c5f",
   "metadata": {},
   "outputs": [],
   "source": [
    "np.random.seed(1)"
   ]
  },
  {
   "cell_type": "code",
   "execution_count": 14,
   "id": "336e68a0",
   "metadata": {},
   "outputs": [
    {
     "name": "stdout",
     "output_type": "stream",
     "text": [
      "Model: \"sequential\"\n",
      "_________________________________________________________________\n",
      " Layer (type)                Output Shape              Param #   \n",
      "=================================================================\n",
      " dense (Dense)               (None, 25)                125       \n",
      "                                                                 \n",
      " ada_act (Ada_act)           (None, 25)                3         \n",
      "                                                                 \n",
      " dropout (Dropout)           (None, 25)                0         \n",
      "                                                                 \n",
      " dense_1 (Dense)             (None, 2)                 52        \n",
      "                                                                 \n",
      "=================================================================\n",
      "Total params: 180\n",
      "Trainable params: 180\n",
      "Non-trainable params: 0\n",
      "_________________________________________________________________\n"
     ]
    }
   ],
   "source": [
    "# Build model with fully connected layers with dropout regulation\n",
    "model = Sequential()\n",
    "model.add(layers.Dense(25, input_dim=n_features))\n",
    "act = Ada_act()\n",
    "model.add(act)\n",
    "model.add(layers.Dropout(0.1))\n",
    "model.add(layers.Dense(n_classes, activation='softmax'))\n",
    "model.summary()"
   ]
  },
  {
   "cell_type": "code",
   "execution_count": 15,
   "id": "25336895",
   "metadata": {
    "scrolled": false
   },
   "outputs": [
    {
     "name": "stdout",
     "output_type": "stream",
     "text": [
      "Epoch 1/100\n",
      "176/176 [==============================] - 4s 10ms/step - loss: 0.6566 - accuracy: 0.7138 - val_loss: 0.5465 - val_accuracy: 0.9227\n",
      "Epoch 2/100\n",
      "176/176 [==============================] - 1s 6ms/step - loss: 0.4311 - accuracy: 0.9236 - val_loss: 0.2969 - val_accuracy: 0.9318\n",
      "Epoch 3/100\n",
      "176/176 [==============================] - 1s 6ms/step - loss: 0.2126 - accuracy: 0.9555 - val_loss: 0.1439 - val_accuracy: 0.9682\n",
      "Epoch 4/100\n",
      "176/176 [==============================] - 1s 6ms/step - loss: 0.1196 - accuracy: 0.9704 - val_loss: 0.0828 - val_accuracy: 0.9682\n",
      "Epoch 5/100\n",
      "176/176 [==============================] - 1s 6ms/step - loss: 0.0786 - accuracy: 0.9738 - val_loss: 0.0573 - val_accuracy: 0.9773\n",
      "Epoch 6/100\n",
      "176/176 [==============================] - 1s 5ms/step - loss: 0.0588 - accuracy: 0.9749 - val_loss: 0.0430 - val_accuracy: 0.9773\n",
      "Epoch 7/100\n",
      "176/176 [==============================] - 1s 6ms/step - loss: 0.0420 - accuracy: 0.9840 - val_loss: 0.0330 - val_accuracy: 0.9818\n",
      "Epoch 8/100\n",
      "176/176 [==============================] - 1s 6ms/step - loss: 0.0342 - accuracy: 0.9852 - val_loss: 0.0261 - val_accuracy: 0.9909\n",
      "Epoch 9/100\n",
      "176/176 [==============================] - 1s 6ms/step - loss: 0.0285 - accuracy: 0.9920 - val_loss: 0.0211 - val_accuracy: 0.9909\n",
      "Epoch 10/100\n",
      "176/176 [==============================] - 1s 6ms/step - loss: 0.0219 - accuracy: 0.9954 - val_loss: 0.0170 - val_accuracy: 1.0000\n",
      "Epoch 11/100\n",
      "176/176 [==============================] - 1s 6ms/step - loss: 0.0201 - accuracy: 0.9989 - val_loss: 0.0141 - val_accuracy: 1.0000\n",
      "Epoch 12/100\n",
      "176/176 [==============================] - 1s 6ms/step - loss: 0.0200 - accuracy: 0.9954 - val_loss: 0.0120 - val_accuracy: 1.0000\n",
      "Epoch 13/100\n",
      "176/176 [==============================] - 1s 6ms/step - loss: 0.0138 - accuracy: 0.9989 - val_loss: 0.0097 - val_accuracy: 1.0000\n",
      "Epoch 14/100\n",
      "176/176 [==============================] - 1s 6ms/step - loss: 0.0145 - accuracy: 0.9966 - val_loss: 0.0086 - val_accuracy: 1.0000\n",
      "Epoch 15/100\n",
      "176/176 [==============================] - 1s 6ms/step - loss: 0.0113 - accuracy: 0.9989 - val_loss: 0.0074 - val_accuracy: 1.0000\n",
      "Epoch 16/100\n",
      "176/176 [==============================] - 1s 6ms/step - loss: 0.0089 - accuracy: 1.0000 - val_loss: 0.0061 - val_accuracy: 1.0000\n",
      "Epoch 17/100\n",
      "176/176 [==============================] - 1s 6ms/step - loss: 0.0084 - accuracy: 1.0000 - val_loss: 0.0053 - val_accuracy: 1.0000\n",
      "Epoch 18/100\n",
      "176/176 [==============================] - 1s 5ms/step - loss: 0.0070 - accuracy: 1.0000 - val_loss: 0.0046 - val_accuracy: 1.0000\n",
      "Epoch 19/100\n",
      "176/176 [==============================] - 1s 6ms/step - loss: 0.0076 - accuracy: 0.9989 - val_loss: 0.0037 - val_accuracy: 1.0000\n",
      "Epoch 20/100\n",
      "176/176 [==============================] - 1s 6ms/step - loss: 0.0071 - accuracy: 0.9977 - val_loss: 0.0033 - val_accuracy: 1.0000\n",
      "Epoch 21/100\n",
      "176/176 [==============================] - 1s 6ms/step - loss: 0.0044 - accuracy: 1.0000 - val_loss: 0.0028 - val_accuracy: 1.0000\n",
      "Epoch 22/100\n",
      "176/176 [==============================] - 1s 6ms/step - loss: 0.0042 - accuracy: 1.0000 - val_loss: 0.0025 - val_accuracy: 1.0000\n",
      "Epoch 23/100\n",
      "176/176 [==============================] - 1s 6ms/step - loss: 0.0057 - accuracy: 0.9989 - val_loss: 0.0025 - val_accuracy: 1.0000\n",
      "Epoch 24/100\n",
      "176/176 [==============================] - 1s 6ms/step - loss: 0.0039 - accuracy: 1.0000 - val_loss: 0.0021 - val_accuracy: 1.0000\n",
      "Epoch 25/100\n",
      "176/176 [==============================] - 1s 6ms/step - loss: 0.0035 - accuracy: 1.0000 - val_loss: 0.0017 - val_accuracy: 1.0000\n",
      "Epoch 26/100\n",
      "176/176 [==============================] - 1s 6ms/step - loss: 0.0053 - accuracy: 0.9989 - val_loss: 0.0016 - val_accuracy: 1.0000\n",
      "Epoch 27/100\n",
      "176/176 [==============================] - 1s 5ms/step - loss: 0.0048 - accuracy: 0.9989 - val_loss: 0.0016 - val_accuracy: 1.0000\n",
      "Epoch 28/100\n",
      "176/176 [==============================] - 1s 6ms/step - loss: 0.0023 - accuracy: 1.0000 - val_loss: 0.0014 - val_accuracy: 1.0000\n",
      "Epoch 29/100\n",
      "176/176 [==============================] - 1s 6ms/step - loss: 0.0022 - accuracy: 1.0000 - val_loss: 0.0012 - val_accuracy: 1.0000\n",
      "Epoch 30/100\n",
      "176/176 [==============================] - 1s 6ms/step - loss: 0.0019 - accuracy: 1.0000 - val_loss: 0.0011 - val_accuracy: 1.0000\n",
      "Epoch 31/100\n",
      "176/176 [==============================] - 1s 6ms/step - loss: 0.0027 - accuracy: 1.0000 - val_loss: 0.0010 - val_accuracy: 1.0000\n",
      "Epoch 32/100\n",
      "176/176 [==============================] - 1s 6ms/step - loss: 0.0024 - accuracy: 1.0000 - val_loss: 9.7145e-04 - val_accuracy: 1.0000\n",
      "Epoch 33/100\n",
      "176/176 [==============================] - 1s 6ms/step - loss: 0.0018 - accuracy: 1.0000 - val_loss: 7.1920e-04 - val_accuracy: 1.0000\n",
      "Epoch 34/100\n",
      "176/176 [==============================] - 1s 6ms/step - loss: 0.0013 - accuracy: 1.0000 - val_loss: 6.6155e-04 - val_accuracy: 1.0000\n",
      "Epoch 35/100\n",
      "176/176 [==============================] - 1s 5ms/step - loss: 0.0013 - accuracy: 1.0000 - val_loss: 5.9605e-04 - val_accuracy: 1.0000\n",
      "Epoch 36/100\n",
      "176/176 [==============================] - 1s 6ms/step - loss: 0.0012 - accuracy: 1.0000 - val_loss: 6.5743e-04 - val_accuracy: 1.0000\n",
      "Epoch 37/100\n",
      "176/176 [==============================] - 1s 5ms/step - loss: 0.0013 - accuracy: 1.0000 - val_loss: 6.7187e-04 - val_accuracy: 1.0000\n",
      "Epoch 38/100\n",
      "176/176 [==============================] - 1s 5ms/step - loss: 0.0014 - accuracy: 1.0000 - val_loss: 4.4936e-04 - val_accuracy: 1.0000\n",
      "Epoch 39/100\n",
      "176/176 [==============================] - 1s 5ms/step - loss: 8.3178e-04 - accuracy: 1.0000 - val_loss: 3.9566e-04 - val_accuracy: 1.0000\n",
      "Epoch 40/100\n",
      "176/176 [==============================] - 1s 5ms/step - loss: 0.0012 - accuracy: 1.0000 - val_loss: 3.4770e-04 - val_accuracy: 1.0000\n",
      "Epoch 41/100\n",
      "176/176 [==============================] - 1s 5ms/step - loss: 8.1663e-04 - accuracy: 1.0000 - val_loss: 3.1581e-04 - val_accuracy: 1.0000\n",
      "Epoch 42/100\n",
      "176/176 [==============================] - 1s 5ms/step - loss: 8.8825e-04 - accuracy: 1.0000 - val_loss: 2.7518e-04 - val_accuracy: 1.0000\n",
      "Epoch 43/100\n",
      "176/176 [==============================] - 1s 5ms/step - loss: 3.2144e-04 - accuracy: 1.0000 - val_loss: 2.6157e-04 - val_accuracy: 1.0000\n",
      "Epoch 44/100\n",
      "176/176 [==============================] - 1s 5ms/step - loss: 5.5636e-04 - accuracy: 1.0000 - val_loss: 2.2783e-04 - val_accuracy: 1.0000\n",
      "Epoch 45/100\n",
      "176/176 [==============================] - 1s 5ms/step - loss: 9.8217e-04 - accuracy: 1.0000 - val_loss: 2.4127e-04 - val_accuracy: 1.0000\n",
      "Epoch 46/100\n",
      "176/176 [==============================] - 1s 6ms/step - loss: 7.9701e-04 - accuracy: 1.0000 - val_loss: 1.9001e-04 - val_accuracy: 1.0000\n",
      "Epoch 47/100\n",
      "176/176 [==============================] - 1s 5ms/step - loss: 4.8007e-04 - accuracy: 1.0000 - val_loss: 1.8377e-04 - val_accuracy: 1.0000\n",
      "Epoch 48/100\n",
      "176/176 [==============================] - 1s 6ms/step - loss: 8.1652e-04 - accuracy: 1.0000 - val_loss: 1.5758e-04 - val_accuracy: 1.0000\n",
      "Epoch 49/100\n",
      "176/176 [==============================] - 1s 5ms/step - loss: 3.3750e-04 - accuracy: 1.0000 - val_loss: 1.4531e-04 - val_accuracy: 1.0000\n",
      "Epoch 50/100\n",
      "176/176 [==============================] - 1s 5ms/step - loss: 3.9093e-04 - accuracy: 1.0000 - val_loss: 1.4080e-04 - val_accuracy: 1.0000\n",
      "Epoch 51/100\n",
      "176/176 [==============================] - 1s 5ms/step - loss: 0.0012 - accuracy: 1.0000 - val_loss: 1.2939e-04 - val_accuracy: 1.0000\n",
      "Epoch 52/100\n",
      "176/176 [==============================] - 1s 5ms/step - loss: 5.1239e-04 - accuracy: 1.0000 - val_loss: 1.1607e-04 - val_accuracy: 1.0000\n",
      "Epoch 53/100\n",
      "176/176 [==============================] - 1s 6ms/step - loss: 2.4936e-04 - accuracy: 1.0000 - val_loss: 1.1217e-04 - val_accuracy: 1.0000\n",
      "Epoch 54/100\n",
      "176/176 [==============================] - 1s 6ms/step - loss: 0.0012 - accuracy: 1.0000 - val_loss: 1.9805e-04 - val_accuracy: 1.0000\n",
      "Epoch 55/100\n",
      "176/176 [==============================] - 1s 5ms/step - loss: 6.0459e-04 - accuracy: 1.0000 - val_loss: 1.3563e-04 - val_accuracy: 1.0000\n",
      "Epoch 56/100\n",
      "176/176 [==============================] - 1s 6ms/step - loss: 5.8482e-04 - accuracy: 1.0000 - val_loss: 1.1844e-04 - val_accuracy: 1.0000\n",
      "Epoch 57/100\n",
      "176/176 [==============================] - 1s 5ms/step - loss: 2.8231e-04 - accuracy: 1.0000 - val_loss: 9.8944e-05 - val_accuracy: 1.0000\n",
      "Epoch 58/100\n",
      "176/176 [==============================] - 1s 5ms/step - loss: 2.4930e-04 - accuracy: 1.0000 - val_loss: 8.6835e-05 - val_accuracy: 1.0000\n",
      "Epoch 59/100\n",
      "176/176 [==============================] - 1s 5ms/step - loss: 7.6801e-04 - accuracy: 1.0000 - val_loss: 1.4341e-04 - val_accuracy: 1.0000\n",
      "Epoch 60/100\n",
      "176/176 [==============================] - 1s 6ms/step - loss: 8.3760e-04 - accuracy: 1.0000 - val_loss: 1.9002e-04 - val_accuracy: 1.0000\n",
      "Epoch 61/100\n",
      "176/176 [==============================] - 1s 6ms/step - loss: 7.5424e-04 - accuracy: 1.0000 - val_loss: 3.3532e-04 - val_accuracy: 1.0000\n",
      "Epoch 62/100\n",
      "176/176 [==============================] - 1s 6ms/step - loss: 4.9075e-04 - accuracy: 1.0000 - val_loss: 1.6832e-04 - val_accuracy: 1.0000\n",
      "Epoch 63/100\n",
      "176/176 [==============================] - 1s 6ms/step - loss: 4.4166e-04 - accuracy: 1.0000 - val_loss: 1.4089e-04 - val_accuracy: 1.0000\n",
      "Epoch 64/100\n",
      "176/176 [==============================] - 1s 5ms/step - loss: 0.0013 - accuracy: 0.9989 - val_loss: 1.8852e-04 - val_accuracy: 1.0000\n",
      "Epoch 65/100\n",
      "176/176 [==============================] - 1s 5ms/step - loss: 0.0017 - accuracy: 1.0000 - val_loss: 9.0883e-05 - val_accuracy: 1.0000\n",
      "Epoch 66/100\n",
      "176/176 [==============================] - 1s 5ms/step - loss: 4.9161e-04 - accuracy: 1.0000 - val_loss: 1.0302e-04 - val_accuracy: 1.0000\n",
      "Epoch 67/100\n",
      "176/176 [==============================] - 1s 5ms/step - loss: 2.7065e-04 - accuracy: 1.0000 - val_loss: 9.0385e-05 - val_accuracy: 1.0000\n",
      "Epoch 68/100\n",
      "176/176 [==============================] - 1s 5ms/step - loss: 1.8702e-04 - accuracy: 1.0000 - val_loss: 8.3052e-05 - val_accuracy: 1.0000\n",
      "Epoch 69/100\n",
      "176/176 [==============================] - 1s 6ms/step - loss: 2.8536e-04 - accuracy: 1.0000 - val_loss: 7.0092e-05 - val_accuracy: 1.0000\n",
      "Epoch 70/100\n",
      "176/176 [==============================] - 1s 6ms/step - loss: 2.7979e-04 - accuracy: 1.0000 - val_loss: 6.2958e-05 - val_accuracy: 1.0000\n",
      "Epoch 71/100\n",
      "176/176 [==============================] - 1s 6ms/step - loss: 6.4762e-04 - accuracy: 1.0000 - val_loss: 5.8607e-05 - val_accuracy: 1.0000\n",
      "Epoch 72/100\n",
      "176/176 [==============================] - 1s 5ms/step - loss: 2.7319e-04 - accuracy: 1.0000 - val_loss: 6.5705e-05 - val_accuracy: 1.0000\n",
      "Epoch 73/100\n",
      "176/176 [==============================] - 1s 5ms/step - loss: 2.3270e-04 - accuracy: 1.0000 - val_loss: 5.9320e-05 - val_accuracy: 1.0000\n",
      "Epoch 74/100\n",
      "176/176 [==============================] - 1s 5ms/step - loss: 0.0028 - accuracy: 0.9989 - val_loss: 5.9227e-05 - val_accuracy: 1.0000\n",
      "Epoch 75/100\n",
      "176/176 [==============================] - 1s 5ms/step - loss: 1.9097e-04 - accuracy: 1.0000 - val_loss: 6.2592e-05 - val_accuracy: 1.0000\n",
      "Epoch 76/100\n",
      "176/176 [==============================] - 1s 5ms/step - loss: 2.2710e-04 - accuracy: 1.0000 - val_loss: 6.3085e-05 - val_accuracy: 1.0000\n",
      "Epoch 77/100\n",
      "176/176 [==============================] - 1s 5ms/step - loss: 5.6665e-04 - accuracy: 1.0000 - val_loss: 6.0785e-05 - val_accuracy: 1.0000\n",
      "Epoch 78/100\n",
      "176/176 [==============================] - 1s 6ms/step - loss: 3.0967e-04 - accuracy: 1.0000 - val_loss: 5.3928e-05 - val_accuracy: 1.0000\n",
      "Epoch 79/100\n",
      "176/176 [==============================] - 1s 5ms/step - loss: 2.5273e-04 - accuracy: 1.0000 - val_loss: 4.6410e-05 - val_accuracy: 1.0000\n",
      "Epoch 80/100\n",
      "176/176 [==============================] - 1s 5ms/step - loss: 3.0553e-04 - accuracy: 1.0000 - val_loss: 5.0635e-05 - val_accuracy: 1.0000\n",
      "Epoch 81/100\n",
      "176/176 [==============================] - 1s 5ms/step - loss: 2.7421e-04 - accuracy: 1.0000 - val_loss: 4.3440e-05 - val_accuracy: 1.0000\n",
      "Epoch 82/100\n",
      "176/176 [==============================] - 1s 5ms/step - loss: 2.8136e-04 - accuracy: 1.0000 - val_loss: 4.9807e-05 - val_accuracy: 1.0000\n",
      "Epoch 83/100\n",
      "176/176 [==============================] - 1s 6ms/step - loss: 2.7323e-04 - accuracy: 1.0000 - val_loss: 5.9297e-05 - val_accuracy: 1.0000\n",
      "Epoch 84/100\n",
      "176/176 [==============================] - 1s 6ms/step - loss: 1.4186e-04 - accuracy: 1.0000 - val_loss: 5.3534e-05 - val_accuracy: 1.0000\n",
      "Epoch 85/100\n",
      "176/176 [==============================] - 1s 6ms/step - loss: 2.0312e-04 - accuracy: 1.0000 - val_loss: 6.3881e-05 - val_accuracy: 1.0000\n",
      "Epoch 86/100\n",
      "176/176 [==============================] - 1s 6ms/step - loss: 5.1333e-04 - accuracy: 1.0000 - val_loss: 3.7592e-05 - val_accuracy: 1.0000\n",
      "Epoch 87/100\n",
      "176/176 [==============================] - 1s 5ms/step - loss: 4.4012e-04 - accuracy: 1.0000 - val_loss: 5.9458e-05 - val_accuracy: 1.0000\n",
      "Epoch 88/100\n",
      "176/176 [==============================] - 1s 5ms/step - loss: 3.9243e-04 - accuracy: 1.0000 - val_loss: 7.5954e-05 - val_accuracy: 1.0000\n",
      "Epoch 89/100\n",
      "176/176 [==============================] - 1s 5ms/step - loss: 2.0366e-04 - accuracy: 1.0000 - val_loss: 4.5728e-05 - val_accuracy: 1.0000\n",
      "Epoch 90/100\n",
      "176/176 [==============================] - 1s 5ms/step - loss: 3.3017e-04 - accuracy: 1.0000 - val_loss: 8.5859e-05 - val_accuracy: 1.0000\n",
      "Epoch 91/100\n",
      "176/176 [==============================] - 1s 5ms/step - loss: 5.5970e-04 - accuracy: 1.0000 - val_loss: 5.4276e-05 - val_accuracy: 1.0000\n",
      "Epoch 92/100\n",
      "176/176 [==============================] - 1s 6ms/step - loss: 5.9765e-04 - accuracy: 1.0000 - val_loss: 8.7601e-05 - val_accuracy: 1.0000\n",
      "Epoch 93/100\n",
      "176/176 [==============================] - 1s 5ms/step - loss: 6.5960e-04 - accuracy: 1.0000 - val_loss: 4.0918e-05 - val_accuracy: 1.0000\n",
      "Epoch 94/100\n",
      "176/176 [==============================] - 1s 5ms/step - loss: 6.5366e-04 - accuracy: 1.0000 - val_loss: 6.5796e-05 - val_accuracy: 1.0000\n",
      "Epoch 95/100\n",
      "176/176 [==============================] - 1s 5ms/step - loss: 1.7224e-04 - accuracy: 1.0000 - val_loss: 6.3787e-05 - val_accuracy: 1.0000\n",
      "Epoch 96/100\n",
      "176/176 [==============================] - 1s 5ms/step - loss: 2.8924e-04 - accuracy: 1.0000 - val_loss: 3.8672e-05 - val_accuracy: 1.0000\n",
      "Epoch 97/100\n",
      "176/176 [==============================] - 1s 6ms/step - loss: 2.1700e-04 - accuracy: 1.0000 - val_loss: 5.2331e-05 - val_accuracy: 1.0000\n",
      "Epoch 98/100\n",
      "176/176 [==============================] - 1s 6ms/step - loss: 1.3805e-04 - accuracy: 1.0000 - val_loss: 4.0607e-05 - val_accuracy: 1.0000\n",
      "Epoch 99/100\n",
      "176/176 [==============================] - 1s 6ms/step - loss: 6.6225e-05 - accuracy: 1.0000 - val_loss: 3.5835e-05 - val_accuracy: 1.0000\n",
      "Epoch 100/100\n",
      "176/176 [==============================] - 1s 6ms/step - loss: 1.1495e-04 - accuracy: 1.0000 - val_loss: 2.9954e-05 - val_accuracy: 1.0000\n"
     ]
    }
   ],
   "source": [
    "import datetime\n",
    "batch_size = 5\n",
    "epochs = 100\n",
    "\n",
    "model.compile(loss=\"binary_crossentropy\", optimizer = keras.optimizers.Adam(learning_rate = 0.001), metrics=[\"accuracy\"])\n",
    "\n",
    "log_dir = \"irislogs/smallk1k0/\" + datetime.datetime.now().strftime(\"%Y%m%d-%H%M%S\")\n",
    "tensorboard_callback = tf.keras.callbacks.TensorBoard(log_dir=log_dir, histogram_freq=1)\n",
    "\n",
    "history = model.fit(X_train, Y_train, batch_size=batch_size, epochs=epochs, validation_split=0.2 ,callbacks=[tensorboard_callback], verbose=1)"
   ]
  },
  {
   "cell_type": "code",
   "execution_count": 16,
   "id": "deb94794",
   "metadata": {
    "scrolled": false
   },
   "outputs": [
    {
     "name": "stdout",
     "output_type": "stream",
     "text": [
      "[0.6565720438957214, 0.4311194121837616, 0.2125508040189743, 0.11960410326719284, 0.0786048173904419, 0.05880362540483475, 0.042041655629873276, 0.03416147828102112, 0.028502168133854866, 0.021857280284166336, 0.020107708871364594, 0.020040476694703102, 0.013804201036691666, 0.014487273059785366, 0.011280222795903683, 0.008897453546524048, 0.00838122982531786, 0.007049514912068844, 0.007567534223198891, 0.007106890436261892, 0.004369424656033516, 0.0042212423868477345, 0.005721148569136858, 0.003901497693732381, 0.0035101238172501326, 0.005251436028629541, 0.00477660121396184, 0.0022918193135410547, 0.0021920064464211464, 0.0019013745477423072, 0.002721969271078706, 0.0024119908921420574, 0.0018051001243293285, 0.0012990087270736694, 0.0013277637772262096, 0.0012329668970778584, 0.001345100230537355, 0.0014024722622707486, 0.0008317796164192259, 0.001175801851786673, 0.0008166265906766057, 0.000888254726305604, 0.0003214396128896624, 0.0005563594168052077, 0.0009821692947298288, 0.0007970060687512159, 0.00048006552970036864, 0.0008165218750946224, 0.000337500823661685, 0.0003909304505214095, 0.001233729301020503, 0.0005123934242874384, 0.000249355798587203, 0.001170006929896772, 0.0006045910413376987, 0.0005848230211995542, 0.0002823050890583545, 0.0002492956700734794, 0.0007680071867071092, 0.0008375975885428488, 0.0007542354869656265, 0.0004907508846372366, 0.0004416583979036659, 0.001323146978393197, 0.00167240877635777, 0.0004916103789582849, 0.00027064577443525195, 0.0001870240521384403, 0.00028535601450130343, 0.0002797866764012724, 0.0006476182607002556, 0.00027318712091073394, 0.00023269833764061332, 0.0028163925744593143, 0.00019097320910077542, 0.0002270994009450078, 0.0005666494253091514, 0.00030966519261710346, 0.0002527311444282532, 0.00030552787939086556, 0.0002742136421147734, 0.00028135711909271777, 0.0002732266439124942, 0.00014185637701302767, 0.0002031152689596638, 0.0005133331869728863, 0.0004401163605507463, 0.00039242967613972723, 0.00020366034004837275, 0.00033017105306498706, 0.000559696985874325, 0.0005976480897516012, 0.0006596043240278959, 0.0006536578293889761, 0.00017224183829966933, 0.0002892381453420967, 0.00021699696662835777, 0.00013805126945953816, 6.62246675346978e-05, 0.0001149530362454243]\n"
     ]
    }
   ],
   "source": [
    "# parameter updates during training\n",
    "parameter_updates = history.history['loss']\n",
    "print(parameter_updates)"
   ]
  },
  {
   "cell_type": "code",
   "execution_count": 17,
   "id": "86c01ebe",
   "metadata": {
    "scrolled": false
   },
   "outputs": [
    {
     "name": "stdout",
     "output_type": "stream",
     "text": [
      "[array([[-0.24071352, -0.6096078 ,  0.61637264,  0.7309875 ,  0.08967481,\n",
      "        -0.22902389, -0.6228023 ,  0.09440634,  0.48228696, -0.4597672 ,\n",
      "         0.00818666,  0.60549885, -0.47090602, -0.5393435 , -0.51918876,\n",
      "        -0.38471827, -0.19228883,  0.44211498,  0.30615732,  0.09968814,\n",
      "        -0.34719706, -0.6185756 , -0.3303811 ,  0.4310387 , -0.6459117 ],\n",
      "       [-0.23980738, -0.53444415,  0.28188637, -0.17112583, -0.64380294,\n",
      "        -0.3353822 , -0.63277686,  0.45381206,  0.33924896,  0.12291456,\n",
      "         0.297356  ,  0.8671317 , -0.9050846 , -0.64934075, -0.46620223,\n",
      "        -0.05640142, -0.4125823 , -0.08592622,  0.15538974, -0.03287636,\n",
      "        -0.20782246, -0.24443798, -0.6983579 ,  0.6610683 , -0.08657779],\n",
      "       [-0.00926459, -0.8016743 , -0.13505971,  0.3483953 , -0.06223223,\n",
      "         0.00790286, -0.4599749 ,  0.85473627,  0.08995304, -0.2573706 ,\n",
      "         0.10304641,  0.8172281 , -0.6581651 , -0.77171075, -0.94157064,\n",
      "         0.41724023,  0.05238785, -0.7315285 ,  0.03142757, -0.7434472 ,\n",
      "         0.19667946, -0.10976317, -0.5077584 ,  0.6218371 ,  0.4827427 ],\n",
      "       [ 0.47891447,  0.10781041, -0.17443809, -0.38557827, -0.02212041,\n",
      "         0.2957461 , -0.11321291, -0.30838263,  0.1554771 , -0.07677738,\n",
      "         0.08463559,  0.02731756, -0.0984952 ,  0.06435191,  0.20036544,\n",
      "        -0.10838047,  0.1099956 , -0.06851763,  0.0409843 ,  0.43383613,\n",
      "         0.38503626,  0.17214233,  0.02093779, -0.05349704,  0.08310553]],\n",
      "      dtype=float32), array([ 0.13246526,  0.36942488, -0.34212312,  0.61759657, -0.24561617,\n",
      "        0.12576574,  0.318415  , -0.38381794, -0.39062363, -0.589463  ,\n",
      "       -0.42883584,  1.0448494 , -1.1608187 ,  0.3646051 ,  0.3163141 ,\n",
      "       -0.0857726 , -0.3718948 , -0.06459434,  0.5197957 ,  0.18429032,\n",
      "        0.04597955,  0.22531681, -1.0484812 ,  0.9072685 ,  0.10698247],\n",
      "      dtype=float32), -1.1284701, 0.5461854, 2.984789, array([[-0.8587911 ,  0.41485262],\n",
      "       [-1.390229  ,  1.4486817 ],\n",
      "       [-0.70242333,  0.2696135 ],\n",
      "       [ 1.1176913 , -1.0348458 ],\n",
      "       [ 0.01862332, -0.12200522],\n",
      "       [-0.14347935,  0.7362066 ],\n",
      "       [-0.75613284,  0.809031  ],\n",
      "       [-1.2515714 ,  1.2051164 ],\n",
      "       [-0.41763613,  0.27899987],\n",
      "       [ 0.23964511, -0.16383694],\n",
      "       [-0.37155515, -0.11956529],\n",
      "       [ 1.232741  , -1.1920592 ],\n",
      "       [ 0.9061345 , -1.0060786 ],\n",
      "       [-1.3970964 ,  1.3742373 ],\n",
      "       [-1.0196979 ,  1.0956533 ],\n",
      "       [ 0.06098963,  0.5421818 ],\n",
      "       [ 0.01502214, -0.15814443],\n",
      "       [-0.61713004,  0.42030638],\n",
      "       [ 0.29727912, -0.2990977 ],\n",
      "       [-0.66500604,  0.6500398 ],\n",
      "       [-0.12393505,  0.6377719 ],\n",
      "       [-0.9251159 ,  0.8632237 ],\n",
      "       [ 1.3210523 , -1.100096  ],\n",
      "       [ 1.4030548 , -1.596388  ],\n",
      "       [-0.3813679 ,  0.48846602]], dtype=float32), array([ 0.2845821, -0.3630793], dtype=float32)]\n"
     ]
    }
   ],
   "source": [
    "# final parameter values at the end of training\n",
    "final_parameter_values = model.get_weights()\n",
    "print(final_parameter_values)"
   ]
  },
  {
   "cell_type": "code",
   "execution_count": 18,
   "id": "b06aa072",
   "metadata": {},
   "outputs": [
    {
     "name": "stdout",
     "output_type": "stream",
     "text": [
      "180\n"
     ]
    }
   ],
   "source": [
    "total_parameters = model.count_params()\n",
    "print(total_parameters)"
   ]
  },
  {
   "cell_type": "code",
   "execution_count": 19,
   "id": "a3b5a3e6",
   "metadata": {},
   "outputs": [
    {
     "name": "stdout",
     "output_type": "stream",
     "text": [
      "Test loss: 0.00010452318383613601\n",
      "Test accuracy: 1.0\n"
     ]
    }
   ],
   "source": [
    "score = model.evaluate(X_test, Y_test, verbose=0)\n",
    "print(\"Test loss:\", score[0])\n",
    "print(\"Test accuracy:\", score[1])"
   ]
  },
  {
   "cell_type": "code",
   "execution_count": 20,
   "id": "5acc3fdd",
   "metadata": {},
   "outputs": [
    {
     "name": "stdout",
     "output_type": "stream",
     "text": [
      "AF coefficients (weights) [-1.1284701, 0.5461854, 2.984789]\n"
     ]
    }
   ],
   "source": [
    "# Optimal Value of k0,k1 & k2\n",
    "print(\"AF coefficients (weights) {}\".format(act.get_weights()))"
   ]
  },
  {
   "cell_type": "code",
   "execution_count": 21,
   "id": "775781be",
   "metadata": {},
   "outputs": [],
   "source": [
    "from sklearn.metrics import f1_score\n",
    "# training and test loss\n",
    "train_loss = history.history['loss']\n",
    "val_loss = history.history['val_loss']"
   ]
  },
  {
   "cell_type": "code",
   "execution_count": 22,
   "id": "6449133f",
   "metadata": {},
   "outputs": [
    {
     "name": "stdout",
     "output_type": "stream",
     "text": [
      "0.0001149530362454243\n"
     ]
    }
   ],
   "source": [
    "print(train_loss[-1])"
   ]
  },
  {
   "cell_type": "code",
   "execution_count": 23,
   "id": "2e930fc9",
   "metadata": {},
   "outputs": [],
   "source": [
    "# training and testing accuracy\n",
    "train_accuracy = history.history['accuracy']\n",
    "val_accuracy = history.history['val_accuracy']"
   ]
  },
  {
   "cell_type": "code",
   "execution_count": 24,
   "id": "fdd26a27",
   "metadata": {},
   "outputs": [
    {
     "name": "stdout",
     "output_type": "stream",
     "text": [
      "1.0\n"
     ]
    }
   ],
   "source": [
    "print(train_accuracy[-1])"
   ]
  },
  {
   "cell_type": "code",
   "execution_count": 25,
   "id": "47bcee44",
   "metadata": {},
   "outputs": [
    {
     "name": "stdout",
     "output_type": "stream",
     "text": [
      "9/9 [==============================] - 0s 3ms/step\n"
     ]
    }
   ],
   "source": [
    "# predictions on the test set\n",
    "y_pred = model.predict(X_test)\n",
    "y_pred = np.argmax(y_pred, axis=1)"
   ]
  },
  {
   "cell_type": "code",
   "execution_count": 26,
   "id": "aceef5ee",
   "metadata": {},
   "outputs": [],
   "source": [
    "#  F1-Score\n",
    "f1 = f1_score(np.argmax(Y_test, axis=1), y_pred, average='weighted')"
   ]
  },
  {
   "cell_type": "code",
   "execution_count": 27,
   "id": "04065886",
   "metadata": {},
   "outputs": [
    {
     "name": "stdout",
     "output_type": "stream",
     "text": [
      "Test loss: 0.00010452318383613601\n",
      "Test accuracy: 1.0\n",
      "F1-Score: 1.0\n"
     ]
    }
   ],
   "source": [
    "# Print test loss, test accuracy, and F1-Score\n",
    "score = model.evaluate(X_test, Y_test, verbose=0)\n",
    "print(\"Test loss:\", score[0])\n",
    "print(\"Test accuracy:\", score[1])\n",
    "print(\"F1-Score:\", f1)"
   ]
  },
  {
   "cell_type": "code",
   "execution_count": 28,
   "id": "566b4e0c",
   "metadata": {},
   "outputs": [
    {
     "data": {
      "image/png": "[encoded data removed]",
      "text/plain": [
       "<Figure size 640x480 with 1 Axes>"
      ]
     },
     "metadata": {},
     "output_type": "display_data"
    }
   ],
   "source": [
    "# Plot of loss function vs. epochs\n",
    "plt.plot(range(1, epochs + 1), train_loss, label='Train Loss')\n",
    "plt.plot(range(1, epochs + 1), val_loss, label='Validation Loss')\n",
    "plt.xlabel('Epochs')\n",
    "plt.ylabel('Loss')\n",
    "plt.title('Loss Function vs. Epochs')\n",
    "plt.legend()\n",
    "plt.show()"
   ]
  },
  {
   "cell_type": "code",
   "execution_count": null,
   "id": "cd776002",
   "metadata": {},
   "outputs": [],
   "source": []
  }
 ],
 "metadata": {
  "kernelspec": {
   "display_name": "Python 3 (ipykernel)",
   "language": "python",
   "name": "python3"
  },
  "language_info": {
   "codemirror_mode": {
    "name": "ipython",
    "version": 3
   },
   "file_extension": ".py",
   "mimetype": "text/x-python",
   "name": "python",
   "nbconvert_exporter": "python",
   "pygments_lexer": "ipython3",
   "version": "3.10.6"
  }
 },
 "nbformat": 4,
 "nbformat_minor": 5
}
