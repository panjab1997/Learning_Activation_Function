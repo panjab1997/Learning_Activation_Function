{
 "cells": [
  {
   "cell_type": "code",
   "execution_count": 18,
   "id": "999cffc4",
   "metadata": {},
   "outputs": [],
   "source": [
    "import os \n",
    "import numpy as np\n",
    "import matplotlib.pyplot as plt\n",
    "from tensorflow import keras\n",
    "from keras.datasets import mnist\n",
    "from keras.utils import to_categorical\n",
    "from keras import models\n",
    "from keras import layers\n",
    "import tensorflow as tf\n",
    "from tensorflow.keras import models, layers"
   ]
  },
  {
   "cell_type": "code",
   "execution_count": 2,
   "id": "0a8b4a7f",
   "metadata": {},
   "outputs": [],
   "source": [
    "(train_images , train_labels) , (test_images , test_labels) = mnist.load_data()"
   ]
  },
  {
   "cell_type": "code",
   "execution_count": 4,
   "id": "cf8adee7",
   "metadata": {},
   "outputs": [
    {
     "name": "stdout",
     "output_type": "stream",
     "text": [
      "(60000, 28, 28)\n",
      "(60000,)\n"
     ]
    }
   ],
   "source": [
    "print(train_images.shape)\n",
    "print(train_labels.shape)"
   ]
  },
  {
   "cell_type": "code",
   "execution_count": 5,
   "id": "207ec92d",
   "metadata": {},
   "outputs": [
    {
     "name": "stdout",
     "output_type": "stream",
     "text": [
      "(10000, 28, 28)\n",
      "(10000,)\n"
     ]
    }
   ],
   "source": [
    "print(test_images.shape)\n",
    "print(test_labels.shape)"
   ]
  },
  {
   "cell_type": "code",
   "execution_count": 6,
   "id": "4297c1df",
   "metadata": {},
   "outputs": [
    {
     "data": {
      "text/plain": [
       "5"
      ]
     },
     "execution_count": 6,
     "metadata": {},
     "output_type": "execute_result"
    },
    {
     "data": {
      "image/png": "[encoded data removed]",
      "text/plain": [
       "<Figure size 640x480 with 1 Axes>"
      ]
     },
     "metadata": {},
     "output_type": "display_data"
    }
   ],
   "source": [
    "first_img = train_images[0]\n",
    "plt.imshow(first_img , cmap= 'gray') # viewing the image\n",
    "train_labels[0] # labes of the image is 5"
   ]
  },
  {
   "cell_type": "code",
   "execution_count": 7,
   "id": "82425ae8",
   "metadata": {},
   "outputs": [
    {
     "data": {
      "text/plain": [
       "(60000, 28, 28, 1)"
      ]
     },
     "execution_count": 7,
     "metadata": {},
     "output_type": "execute_result"
    }
   ],
   "source": [
    "train_images = train_images.reshape((60000,28,28,1))\n",
    "# 1 is the depth for B&W (black and white) , for RGB it is 3\n",
    "train_images.shape"
   ]
  },
  {
   "cell_type": "code",
   "execution_count": 8,
   "id": "970dbd76",
   "metadata": {},
   "outputs": [],
   "source": [
    "# scaling\n",
    "train_images = train_images.astype('float32')/255"
   ]
  },
  {
   "cell_type": "code",
   "execution_count": 9,
   "id": "6a7ae220",
   "metadata": {},
   "outputs": [],
   "source": [
    "# test image reshaping\n",
    "test_images = test_images.reshape(10000 , 28 ,28 ,1)\n",
    "test_images.shape\n",
    "test_images = test_images.astype('float32')/255"
   ]
  },
  {
   "cell_type": "code",
   "execution_count": 10,
   "id": "36aff759",
   "metadata": {},
   "outputs": [
    {
     "data": {
      "text/plain": [
       "array([[0., 0., 0., ..., 0., 0., 0.],\n",
       "       [1., 0., 0., ..., 0., 0., 0.],\n",
       "       [0., 0., 0., ..., 0., 0., 0.],\n",
       "       ...,\n",
       "       [0., 0., 0., ..., 0., 0., 0.],\n",
       "       [0., 0., 0., ..., 0., 0., 0.],\n",
       "       [0., 0., 0., ..., 0., 1., 0.]], dtype=float32)"
      ]
     },
     "execution_count": 10,
     "metadata": {},
     "output_type": "execute_result"
    }
   ],
   "source": [
    "# convert to categorical\n",
    "train_labels = to_categorical(train_labels)\n",
    "train_labels"
   ]
  },
  {
   "cell_type": "code",
   "execution_count": 11,
   "id": "4b6a982b",
   "metadata": {},
   "outputs": [
    {
     "data": {
      "text/plain": [
       "array([[0., 0., 0., ..., 1., 0., 0.],\n",
       "       [0., 0., 1., ..., 0., 0., 0.],\n",
       "       [0., 1., 0., ..., 0., 0., 0.],\n",
       "       ...,\n",
       "       [0., 0., 0., ..., 0., 0., 0.],\n",
       "       [0., 0., 0., ..., 0., 0., 0.],\n",
       "       [0., 0., 0., ..., 0., 0., 0.]], dtype=float32)"
      ]
     },
     "execution_count": 11,
     "metadata": {},
     "output_type": "execute_result"
    }
   ],
   "source": [
    "test_labels = to_categorical(test_labels)\n",
    "test_labels"
   ]
  },
  {
   "cell_type": "code",
   "execution_count": 12,
   "id": "f2ecabf6",
   "metadata": {},
   "outputs": [
    {
     "data": {
      "text/plain": [
       "10"
      ]
     },
     "execution_count": 12,
     "metadata": {},
     "output_type": "execute_result"
    }
   ],
   "source": [
    "len(train_labels[50000])"
   ]
  },
  {
   "cell_type": "markdown",
   "id": "ba9eb449",
   "metadata": {},
   "source": [
    "## Model Architecture"
   ]
  },
  {
   "cell_type": "code",
   "execution_count": 13,
   "id": "b6117bd3",
   "metadata": {},
   "outputs": [],
   "source": [
    "# neural network architecture for adaptive activation function (AF) selection\n",
    "\n",
    "initializer0 = keras.initializers.RandomUniform(minval = -0.01, maxval =0.1)\n",
    "initializer1 = keras.initializers.RandomUniform(minval = -0.01, maxval =0.1)\n",
    "initializer2 = keras.initializers.RandomUniform(minval = 0.5, maxval =1.5)\n",
    "\n",
    "class Ada_act(keras.layers.Layer):\n",
    "    def __init__(self):\n",
    "        super(Ada_act, self).__init__()\n",
    "        self.k0 = self.add_weight(name='k0', shape = (), initializer=initializer0, trainable=True)\n",
    "        self.k1 = self.add_weight(name='k1', shape = (), initializer=initializer1, trainable=True)\n",
    "        self.k2 = self.add_weight(name='k2', shape = (), initializer=initializer2, trainable=True)\n",
    "        \n",
    "    def call(self, inputs):\n",
    "        return self.k0 + tf.multiply(inputs, self.k1) + tf.multiply(tf.multiply(inputs,inputs), self.k2)"
   ]
  },
  {
   "cell_type": "code",
   "execution_count": 19,
   "id": "dcac6213",
   "metadata": {},
   "outputs": [],
   "source": [
    "# Build a model\n",
    "act = Ada_act()\n",
    "model = models.Sequential()\n",
    "model.add(layers.Conv2D(32 , (3,3) ,activation=act, input_shape = (28 ,28 ,1)))\n",
    "model.add(layers.Flatten())\n",
    "model.add(layers.Dense(64 , activation=act))\n",
    "model.add(layers.Dense(10 , activation='softmax'))"
   ]
  },
  {
   "cell_type": "code",
   "execution_count": 20,
   "id": "91efada2",
   "metadata": {},
   "outputs": [],
   "source": [
    "# compling the model\n",
    "\n",
    "model.compile(optimizer='rmsprop' , loss = 'categorical_crossentropy',\n",
    "             metrics=['accuracy'])"
   ]
  },
  {
   "cell_type": "code",
   "execution_count": 21,
   "id": "99fcba00",
   "metadata": {},
   "outputs": [
    {
     "name": "stdout",
     "output_type": "stream",
     "text": [
      "Model: \"sequential_3\"\n",
      "_________________________________________________________________\n",
      " Layer (type)                Output Shape              Param #   \n",
      "=================================================================\n",
      " conv2d_3 (Conv2D)           (None, 26, 26, 32)        323       \n",
      "                                                                 \n",
      " flatten (Flatten)           (None, 21632)             0         \n",
      "                                                                 \n",
      " dense (Dense)               (None, 64)                1384515   \n",
      "                                                                 \n",
      " dense_1 (Dense)             (None, 10)                650       \n",
      "                                                                 \n",
      "=================================================================\n",
      "Total params: 1,385,485\n",
      "Trainable params: 1,385,485\n",
      "Non-trainable params: 0\n",
      "_________________________________________________________________\n"
     ]
    }
   ],
   "source": [
    "model.summary()"
   ]
  },
  {
   "cell_type": "code",
   "execution_count": 22,
   "id": "e975a165",
   "metadata": {},
   "outputs": [
    {
     "name": "stdout",
     "output_type": "stream",
     "text": [
      "Epoch 1/5\n",
      "600/600 [==============================] - 53s 86ms/step - loss: 0.7438 - accuracy: 0.8989 - val_loss: 0.0646 - val_accuracy: 0.9794\n",
      "Epoch 2/5\n",
      "600/600 [==============================] - 53s 89ms/step - loss: 0.0455 - accuracy: 0.9871 - val_loss: 0.0467 - val_accuracy: 0.9863\n",
      "Epoch 3/5\n",
      "600/600 [==============================] - 51s 85ms/step - loss: 0.0214 - accuracy: 0.9938 - val_loss: 0.0518 - val_accuracy: 0.9853\n",
      "Epoch 4/5\n",
      "600/600 [==============================] - 49s 82ms/step - loss: 0.0112 - accuracy: 0.9969 - val_loss: 0.0562 - val_accuracy: 0.9862\n",
      "Epoch 5/5\n",
      "600/600 [==============================] - 54s 90ms/step - loss: 0.0067 - accuracy: 0.9980 - val_loss: 0.0846 - val_accuracy: 0.9864\n"
     ]
    }
   ],
   "source": [
    "# feeding the data in the model\n",
    "history = model.fit(train_images,train_labels , epochs= 5 , batch_size = 100 , \n",
    "                    validation_data=(test_images , test_labels))"
   ]
  },
  {
   "cell_type": "code",
   "execution_count": 23,
   "id": "8d458f06",
   "metadata": {},
   "outputs": [
    {
     "name": "stdout",
     "output_type": "stream",
     "text": [
      "AF coefficients (weights) [-0.012733989, 0.1626034, 1.4863855]\n"
     ]
    }
   ],
   "source": [
    "# Optimal Values of k0,k1&k2\n",
    "print(\"AF coefficients (weights) {}\".format(act.get_weights()))"
   ]
  },
  {
   "cell_type": "code",
   "execution_count": 24,
   "id": "d9e24f1c",
   "metadata": {},
   "outputs": [],
   "source": [
    "from sklearn.metrics import f1_score\n",
    "# training and test loss\n",
    "train_loss = history.history['loss']\n",
    "val_loss = history.history['val_loss']"
   ]
  },
  {
   "cell_type": "code",
   "execution_count": 25,
   "id": "75c07588",
   "metadata": {},
   "outputs": [
    {
     "name": "stdout",
     "output_type": "stream",
     "text": [
      "0.006744380574673414\n"
     ]
    }
   ],
   "source": [
    "print(train_loss[-1])"
   ]
  },
  {
   "cell_type": "code",
   "execution_count": 26,
   "id": "1a0ac13b",
   "metadata": {},
   "outputs": [],
   "source": [
    "# training and testing accuracy\n",
    "train_accuracy = history.history['accuracy']\n",
    "val_accuracy = history.history['val_accuracy']"
   ]
  },
  {
   "cell_type": "code",
   "execution_count": 29,
   "id": "b1e07584",
   "metadata": {},
   "outputs": [
    {
     "data": {
      "image/png": "[encoded data removed]",
      "text/plain": [
       "<Figure size 640x480 with 1 Axes>"
      ]
     },
     "metadata": {},
     "output_type": "display_data"
    }
   ],
   "source": [
    "plt.style.use('ggplot')\n",
    "epochs = 5\n",
    "# Plot of loss function vs. epochs\n",
    "plt.plot(range(1, epochs + 1), train_loss, label='Train Loss')\n",
    "plt.plot(range(1, epochs + 1), val_loss, label='Validation Loss')\n",
    "plt.xlabel('Epochs')\n",
    "plt.ylabel('Loss')\n",
    "plt.title('Loss Function vs. Epochs')\n",
    "plt.legend()\n",
    "plt.show()"
   ]
  },
  {
   "cell_type": "code",
   "execution_count": null,
   "id": "4fab4a5e",
   "metadata": {},
   "outputs": [],
   "source": []
  }
 ],
 "metadata": {
  "kernelspec": {
   "display_name": "Python 3 (ipykernel)",
   "language": "python",
   "name": "python3"
  },
  "language_info": {
   "codemirror_mode": {
    "name": "ipython",
    "version": 3
   },
   "file_extension": ".py",
   "mimetype": "text/x-python",
   "name": "python",
   "nbconvert_exporter": "python",
   "pygments_lexer": "ipython3",
   "version": "3.10.6"
  }
 },
 "nbformat": 4,
 "nbformat_minor": 5
}
